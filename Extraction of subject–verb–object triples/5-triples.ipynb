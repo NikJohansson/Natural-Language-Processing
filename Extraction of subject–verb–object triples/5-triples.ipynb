{
 "cells": [
  {
   "cell_type": "markdown",
   "metadata": {},
   "source": [
    "# Assignment #5: Extraction of subject–verb–object triples\n",
    "Author: Pierre Nugues"
   ]
  },
  {
   "cell_type": "markdown",
   "metadata": {},
   "source": [
    "## Objectives"
   ]
  },
  {
   "cell_type": "markdown",
   "metadata": {},
   "source": [
    "In this assignment, you will extract relations from a parsed sentence involving two words or entities. You will start with pairs of words, namely a subject and its verb, and then extend your programs to triples: subject, verb, and object. In the triples, the subject and the object are the entities, and the verb represents the relation. \n",
    "\n",
    "$$\n",
    "\\text{Subject} \\xrightarrow[\\text{}]{\\text{Verb}} \\text{Object}\n",
    "$$\n",
    "\n",
    "The overall work is inspired by the _Prismatic_ knowledge base used in the IBM Watson system, where the subject, verb, and object triples are a way to extract knowledge from text.  See <a href=\"http://www.aclweb.org/anthology/W/W10/W10-0915.pdf\">this paper</a> for details. \n",
    "\n",
    "You will apply the extraction to multilingual texts: \n",
    "1. First you will use a parsed corpus of Swedish; and then\n",
    "2. You will apply it to other languages.\n",
    "            \n",
    "The objectives of this assignment are to:\n",
    "* Extract the subject–verb pairs from a parsed corpus\n",
    "* Extend the extraction to subject–verb–object triples\n",
    "* Understand how dependency parsing can help create a knowledge base\n",
    "* Write a short report of 1 to 2 pages on the assignment"
   ]
  },
  {
   "cell_type": "markdown",
   "metadata": {},
   "source": [
    "## Corpus"
   ]
  },
  {
   "cell_type": "markdown",
   "metadata": {},
   "source": [
    "As corpora, you will use the Universal Dependencies: https://universaldependencies.org/.\n",
    "1. In the first part of the assignment, you will focus on Swedish as it is easier to understand for most students, and then \n",
    "2. Move on to all the other languages. \n",
    "\n",
    "You will only consider the training sets of each corpus."
   ]
  },
  {
   "cell_type": "markdown",
   "metadata": {},
   "source": [
    "### Choosing a parsed corpus"
   ]
  },
  {
   "cell_type": "markdown",
   "metadata": {},
   "source": [
    "1. Download the latest version of Universal dependencies (2.6) and uncompress them. You have a local version in the `/usr/local/cs/EDAN20/` folder on LTH's machines;\n",
    "2. Go to the Swedish _Talbanken_ corpus;\n",
    "3. Read the CoNLL-U annotation here: https://universaldependencies.org/format.html"
   ]
  },
  {
   "cell_type": "markdown",
   "metadata": {},
   "source": [
    "### Examining the annotation"
   ]
  },
  {
   "cell_type": "markdown",
   "metadata": {},
   "source": [
    "You will carry out the following steps and describe them in your report:\n",
    "\n",
    "1. Draw graphical representations of the two first Swedish sentences of the training set. You will include these drawings in your report;\n",
    "2. Visualize these sentences with this tool: http://spyysalo.github.io/conllu.js/ and check that you have the same results;\n",
    "3. Apply the dependency parser for Swedish of the <a href=\"http://vilde.cs.lth.se:9000/\">Langforia pipelines</a> to these sentences (only the text of each sentence). You will have to select Swedish and activate both `Token` and `DependencyRelation`. Link to Lanforia pipelines: <a href=\"http://vilde.cs.lth.se:9000/\">http://vilde.cs.lth.se:9000/</a>. You will describe possible differences."
   ]
  },
  {
   "cell_type": "markdown",
   "metadata": {},
   "source": [
    "## Programming"
   ]
  },
  {
   "cell_type": "markdown",
   "metadata": {},
   "source": [
    "### Swedish"
   ]
  },
  {
   "cell_type": "markdown",
   "metadata": {},
   "source": [
    "You will extract all the subject–verb pairs and the subject–verb–object triples from the Swedish _Talbanken_ training corpus. To start the program, you can use the CoNLL-U reader available in the cells below.\n",
    "This program works for the other corpora. You can also program a reader yourself starting from the one you used to read the CoNLL 2000 format in the fourth lab or from scratch. "
   ]
  },
  {
   "cell_type": "markdown",
   "metadata": {},
   "source": [
    "#### Imports"
   ]
  },
  {
   "cell_type": "code",
   "execution_count": 1,
   "metadata": {},
   "outputs": [],
   "source": [
    "import os\n",
    "import regex as re"
   ]
  },
  {
   "cell_type": "markdown",
   "metadata": {},
   "source": [
    "### Corpus location"
   ]
  },
  {
   "cell_type": "markdown",
   "metadata": {},
   "source": [
    "Here are the corpus locations you will use. You may have to adjust `ud_path`."
   ]
  },
  {
   "cell_type": "code",
   "execution_count": 2,
   "metadata": {},
   "outputs": [],
   "source": [
    "ud_path = 'ud-treebanks-v2.6/'"
   ]
  },
  {
   "cell_type": "code",
   "execution_count": 3,
   "metadata": {},
   "outputs": [],
   "source": [
    "path_sv = ud_path + 'UD_Swedish-Talbanken/sv_talbanken-ud-train.conllu'\n",
    "path_fr = ud_path + 'UD_French-GSD/fr_gsd-ud-train.conllu'\n",
    "path_ru = ud_path + 'UD_Russian-SynTagRus/ru_syntagrus-ud-train.conllu'\n",
    "path_en = ud_path + 'UD_English-EWT/en_ewt-ud-train.conllu'"
   ]
  },
  {
   "cell_type": "markdown",
   "metadata": {},
   "source": [
    "The column names of the CoNLL-U corpora"
   ]
  },
  {
   "cell_type": "code",
   "execution_count": 4,
   "metadata": {},
   "outputs": [],
   "source": [
    "column_names_u = ['ID', 'FORM', 'LEMMA', 'UPOS', 'XPOS', 'FEATS', 'HEAD', 'DEPREL', 'DEPS', 'MISC']"
   ]
  },
  {
   "cell_type": "markdown",
   "metadata": {},
   "source": [
    "#### Functions to read the CoNLL-U files"
   ]
  },
  {
   "cell_type": "code",
   "execution_count": 5,
   "metadata": {},
   "outputs": [],
   "source": [
    "def read_sentences(file):\n",
    "    \"\"\"\n",
    "    Creates a list of sentences from the corpus\n",
    "    Each sentence is a string\n",
    "    :param file:\n",
    "    :return:\n",
    "    \"\"\"\n",
    "    f = open(file, encoding='utf8').read().strip()\n",
    "    sentences = f.split('\\n\\n')\n",
    "    return sentences"
   ]
  },
  {
   "cell_type": "code",
   "execution_count": 6,
   "metadata": {},
   "outputs": [],
   "source": [
    "def split_rows(sentences, column_names):\n",
    "    \"\"\"\n",
    "    Creates a list of sentence where each sentence is a list of lines\n",
    "    Each line is a dictionary of columns\n",
    "    :param sentences:\n",
    "    :param column_names:\n",
    "    :return:\n",
    "    \"\"\"\n",
    "    new_sentences = []\n",
    "    root_values = ['0', 'ROOT', 'ROOT', 'ROOT', 'ROOT', 'ROOT', '0', 'ROOT', '0', 'ROOT']\n",
    "    start = [dict(zip(column_names, root_values))]\n",
    "    for sentence in sentences:\n",
    "        rows = sentence.split('\\n')\n",
    "        sentence = [dict(zip(column_names, row.split('\\t'))) for row in rows if row[0] != '#']\n",
    "        sentence = start + sentence\n",
    "        new_sentences.append(sentence)\n",
    "    return new_sentences"
   ]
  },
  {
   "cell_type": "markdown",
   "metadata": {},
   "source": [
    "#### Reading the corpus"
   ]
  },
  {
   "cell_type": "markdown",
   "metadata": {},
   "source": [
    "We load the Swedish Talbanken corpus."
   ]
  },
  {
   "cell_type": "code",
   "execution_count": 7,
   "metadata": {},
   "outputs": [],
   "source": [
    "sentences = read_sentences(path_sv)\n",
    "formatted_corpus = split_rows(sentences, column_names_u)"
   ]
  },
  {
   "cell_type": "code",
   "execution_count": 8,
   "metadata": {},
   "outputs": [
    {
     "data": {
      "text/plain": [
       "4303"
      ]
     },
     "execution_count": 8,
     "metadata": {},
     "output_type": "execute_result"
    }
   ],
   "source": [
    "len(formatted_corpus)"
   ]
  },
  {
   "cell_type": "markdown",
   "metadata": {},
   "source": [
    "The parsed sentence: _Genom skattereformen införs individuell beskattning (särbeskattning) av arbetsinkomster._"
   ]
  },
  {
   "cell_type": "code",
   "execution_count": 9,
   "metadata": {},
   "outputs": [
    {
     "data": {
      "text/plain": [
       "[{'ID': '0',\n",
       "  'FORM': 'ROOT',\n",
       "  'LEMMA': 'ROOT',\n",
       "  'UPOS': 'ROOT',\n",
       "  'XPOS': 'ROOT',\n",
       "  'FEATS': 'ROOT',\n",
       "  'HEAD': '0',\n",
       "  'DEPREL': 'ROOT',\n",
       "  'DEPS': '0',\n",
       "  'MISC': 'ROOT'},\n",
       " {'ID': '1',\n",
       "  'FORM': 'Genom',\n",
       "  'LEMMA': 'genom',\n",
       "  'UPOS': 'ADP',\n",
       "  'XPOS': 'PP',\n",
       "  'FEATS': '_',\n",
       "  'HEAD': '2',\n",
       "  'DEPREL': 'case',\n",
       "  'DEPS': '2:case',\n",
       "  'MISC': '_'},\n",
       " {'ID': '2',\n",
       "  'FORM': 'skattereformen',\n",
       "  'LEMMA': 'skattereform',\n",
       "  'UPOS': 'NOUN',\n",
       "  'XPOS': 'NN|UTR|SIN|DEF|NOM',\n",
       "  'FEATS': 'Case=Nom|Definite=Def|Gender=Com|Number=Sing',\n",
       "  'HEAD': '3',\n",
       "  'DEPREL': 'obl',\n",
       "  'DEPS': '3:obl:genom',\n",
       "  'MISC': '_'},\n",
       " {'ID': '3',\n",
       "  'FORM': 'införs',\n",
       "  'LEMMA': 'införa',\n",
       "  'UPOS': 'VERB',\n",
       "  'XPOS': 'VB|PRS|SFO',\n",
       "  'FEATS': 'Mood=Ind|Tense=Pres|VerbForm=Fin|Voice=Pass',\n",
       "  'HEAD': '0',\n",
       "  'DEPREL': 'root',\n",
       "  'DEPS': '0:root',\n",
       "  'MISC': '_'},\n",
       " {'ID': '4',\n",
       "  'FORM': 'individuell',\n",
       "  'LEMMA': 'individuell',\n",
       "  'UPOS': 'ADJ',\n",
       "  'XPOS': 'JJ|POS|UTR|SIN|IND|NOM',\n",
       "  'FEATS': 'Case=Nom|Definite=Ind|Degree=Pos|Gender=Com|Number=Sing',\n",
       "  'HEAD': '5',\n",
       "  'DEPREL': 'amod',\n",
       "  'DEPS': '5:amod',\n",
       "  'MISC': '_'},\n",
       " {'ID': '5',\n",
       "  'FORM': 'beskattning',\n",
       "  'LEMMA': 'beskattning',\n",
       "  'UPOS': 'NOUN',\n",
       "  'XPOS': 'NN|UTR|SIN|IND|NOM',\n",
       "  'FEATS': 'Case=Nom|Definite=Ind|Gender=Com|Number=Sing',\n",
       "  'HEAD': '3',\n",
       "  'DEPREL': 'nsubj:pass',\n",
       "  'DEPS': '3:nsubj:pass',\n",
       "  'MISC': '_'},\n",
       " {'ID': '6',\n",
       "  'FORM': '(',\n",
       "  'LEMMA': '(',\n",
       "  'UPOS': 'PUNCT',\n",
       "  'XPOS': 'PAD',\n",
       "  'FEATS': '_',\n",
       "  'HEAD': '5',\n",
       "  'DEPREL': 'punct',\n",
       "  'DEPS': '5:punct',\n",
       "  'MISC': 'SpaceAfter=No'},\n",
       " {'ID': '7',\n",
       "  'FORM': 'särbeskattning',\n",
       "  'LEMMA': 'särbeskattning',\n",
       "  'UPOS': 'NOUN',\n",
       "  'XPOS': 'NN|UTR|SIN|IND|NOM',\n",
       "  'FEATS': 'Case=Nom|Definite=Ind|Gender=Com|Number=Sing',\n",
       "  'HEAD': '5',\n",
       "  'DEPREL': 'appos',\n",
       "  'DEPS': '5:appos',\n",
       "  'MISC': 'SpaceAfter=No'},\n",
       " {'ID': '8',\n",
       "  'FORM': ')',\n",
       "  'LEMMA': ')',\n",
       "  'UPOS': 'PUNCT',\n",
       "  'XPOS': 'PAD',\n",
       "  'FEATS': '_',\n",
       "  'HEAD': '5',\n",
       "  'DEPREL': 'punct',\n",
       "  'DEPS': '5:punct',\n",
       "  'MISC': '_'},\n",
       " {'ID': '9',\n",
       "  'FORM': 'av',\n",
       "  'LEMMA': 'av',\n",
       "  'UPOS': 'ADP',\n",
       "  'XPOS': 'PP',\n",
       "  'FEATS': '_',\n",
       "  'HEAD': '10',\n",
       "  'DEPREL': 'case',\n",
       "  'DEPS': '10:case',\n",
       "  'MISC': '_'},\n",
       " {'ID': '10',\n",
       "  'FORM': 'arbetsinkomster',\n",
       "  'LEMMA': 'arbetsinkomst',\n",
       "  'UPOS': 'NOUN',\n",
       "  'XPOS': 'NN|UTR|PLU|IND|NOM',\n",
       "  'FEATS': 'Case=Nom|Definite=Ind|Gender=Com|Number=Plur',\n",
       "  'HEAD': '5',\n",
       "  'DEPREL': 'nmod',\n",
       "  'DEPS': '5:nmod:av',\n",
       "  'MISC': 'SpaceAfter=No'},\n",
       " {'ID': '11',\n",
       "  'FORM': '.',\n",
       "  'LEMMA': '.',\n",
       "  'UPOS': 'PUNCT',\n",
       "  'XPOS': 'MAD',\n",
       "  'FEATS': '_',\n",
       "  'HEAD': '3',\n",
       "  'DEPREL': 'punct',\n",
       "  'DEPS': '3:punct',\n",
       "  'MISC': '_'}]"
      ]
     },
     "execution_count": 9,
     "metadata": {},
     "output_type": "execute_result"
    }
   ],
   "source": [
    "formatted_corpus[1]"
   ]
  },
  {
   "cell_type": "markdown",
   "metadata": {},
   "source": [
    "#### Converting the lists in dictionaries"
   ]
  },
  {
   "cell_type": "markdown",
   "metadata": {},
   "source": [
    "To ease the processing of some corpora, you will use a dictionary represention of the sentences. The keys will be the `ID` values. We do this because `ID` is not necessarily a number."
   ]
  },
  {
   "cell_type": "code",
   "execution_count": 10,
   "metadata": {},
   "outputs": [],
   "source": [
    "def convert_to_dict(formatted_corpus):\n",
    "    \"\"\"\n",
    "    Converts each sentence from a list of words to a dictionary where the keys are id\n",
    "    :param formatted_corpus:\n",
    "    :return:\n",
    "    \"\"\"\n",
    "    formatted_corpus_dict = []\n",
    "    for sentence in formatted_corpus:\n",
    "        sentence_dict = {}\n",
    "        for word in sentence:\n",
    "            sentence_dict[word['ID']] = word\n",
    "        formatted_corpus_dict.append(sentence_dict)\n",
    "    return formatted_corpus_dict"
   ]
  },
  {
   "cell_type": "code",
   "execution_count": 11,
   "metadata": {},
   "outputs": [
    {
     "data": {
      "text/plain": [
       "{'0': {'ID': '0',\n",
       "  'FORM': 'ROOT',\n",
       "  'LEMMA': 'ROOT',\n",
       "  'UPOS': 'ROOT',\n",
       "  'XPOS': 'ROOT',\n",
       "  'FEATS': 'ROOT',\n",
       "  'HEAD': '0',\n",
       "  'DEPREL': 'ROOT',\n",
       "  'DEPS': '0',\n",
       "  'MISC': 'ROOT'},\n",
       " '1': {'ID': '1',\n",
       "  'FORM': 'Det',\n",
       "  'LEMMA': 'den',\n",
       "  'UPOS': 'PRON',\n",
       "  'XPOS': 'PN|NEU|SIN|DEF|SUB/OBJ',\n",
       "  'FEATS': 'Definite=Def|Gender=Neut|Number=Sing|PronType=Prs',\n",
       "  'HEAD': '2',\n",
       "  'DEPREL': 'nsubj',\n",
       "  'DEPS': '2:nsubj',\n",
       "  'MISC': '_'},\n",
       " '2': {'ID': '2',\n",
       "  'FORM': 'innebär',\n",
       "  'LEMMA': 'innebära',\n",
       "  'UPOS': 'VERB',\n",
       "  'XPOS': 'VB|PRS|AKT',\n",
       "  'FEATS': 'Mood=Ind|Tense=Pres|VerbForm=Fin|Voice=Act',\n",
       "  'HEAD': '0',\n",
       "  'DEPREL': 'root',\n",
       "  'DEPS': '0:root',\n",
       "  'MISC': '_'},\n",
       " '3': {'ID': '3',\n",
       "  'FORM': 'bl.a.',\n",
       "  'LEMMA': 'bl.a.',\n",
       "  'UPOS': 'ADV',\n",
       "  'XPOS': 'AB|AN',\n",
       "  'FEATS': 'Abbr=Yes',\n",
       "  'HEAD': '2',\n",
       "  'DEPREL': 'advmod',\n",
       "  'DEPS': '2:advmod',\n",
       "  'MISC': '_'},\n",
       " '4': {'ID': '4',\n",
       "  'FORM': 'att',\n",
       "  'LEMMA': 'att',\n",
       "  'UPOS': 'SCONJ',\n",
       "  'XPOS': 'SN',\n",
       "  'FEATS': '_',\n",
       "  'HEAD': '10',\n",
       "  'DEPREL': 'mark',\n",
       "  'DEPS': '10:mark',\n",
       "  'MISC': '_'},\n",
       " '5': {'ID': '5',\n",
       "  'FORM': 'endast',\n",
       "  'LEMMA': 'endast',\n",
       "  'UPOS': 'ADV',\n",
       "  'XPOS': 'AB',\n",
       "  'FEATS': '_',\n",
       "  'HEAD': '6',\n",
       "  'DEPREL': 'advmod',\n",
       "  'DEPS': '6:advmod',\n",
       "  'MISC': '_'},\n",
       " '6': {'ID': '6',\n",
       "  'FORM': 'en',\n",
       "  'LEMMA': 'en',\n",
       "  'UPOS': 'NUM',\n",
       "  'XPOS': 'RG|UTR|SIN|IND|NOM',\n",
       "  'FEATS': 'Case=Nom|Definite=Ind|Gender=Com|Number=Sing|NumType=Card',\n",
       "  'HEAD': '7',\n",
       "  'DEPREL': 'nummod',\n",
       "  'DEPS': '7:nummod',\n",
       "  'MISC': '_'},\n",
       " '7': {'ID': '7',\n",
       "  'FORM': 'skatteskala',\n",
       "  'LEMMA': 'skatteskala',\n",
       "  'UPOS': 'NOUN',\n",
       "  'XPOS': 'NN|UTR|SIN|IND|NOM',\n",
       "  'FEATS': 'Case=Nom|Definite=Ind|Gender=Com|Number=Sing',\n",
       "  'HEAD': '10',\n",
       "  'DEPREL': 'nsubj',\n",
       "  'DEPS': '10:nsubj',\n",
       "  'MISC': '_'},\n",
       " '8': {'ID': '8',\n",
       "  'FORM': 'kommer',\n",
       "  'LEMMA': 'komma',\n",
       "  'UPOS': 'AUX',\n",
       "  'XPOS': 'VB|PRS|AKT',\n",
       "  'FEATS': 'Mood=Ind|Tense=Pres|VerbForm=Fin|Voice=Act',\n",
       "  'HEAD': '10',\n",
       "  'DEPREL': 'aux',\n",
       "  'DEPS': '10:aux',\n",
       "  'MISC': '_'},\n",
       " '9': {'ID': '9',\n",
       "  'FORM': 'att',\n",
       "  'LEMMA': 'att',\n",
       "  'UPOS': 'PART',\n",
       "  'XPOS': 'IE',\n",
       "  'FEATS': '_',\n",
       "  'HEAD': '10',\n",
       "  'DEPREL': 'mark',\n",
       "  'DEPS': '10:mark',\n",
       "  'MISC': '_'},\n",
       " '10': {'ID': '10',\n",
       "  'FORM': 'finnas',\n",
       "  'LEMMA': 'finnas',\n",
       "  'UPOS': 'VERB',\n",
       "  'XPOS': 'VB|INF|SFO',\n",
       "  'FEATS': 'VerbForm=Inf',\n",
       "  'HEAD': '2',\n",
       "  'DEPREL': 'ccomp',\n",
       "  'DEPS': '2:ccomp',\n",
       "  'MISC': '_'},\n",
       " '11': {'ID': '11',\n",
       "  'FORM': 'för',\n",
       "  'LEMMA': 'för',\n",
       "  'UPOS': 'ADP',\n",
       "  'XPOS': 'PP',\n",
       "  'FEATS': '_',\n",
       "  'HEAD': '12',\n",
       "  'DEPREL': 'case',\n",
       "  'DEPS': '12:case',\n",
       "  'MISC': '_'},\n",
       " '12': {'ID': '12',\n",
       "  'FORM': 'beräkning',\n",
       "  'LEMMA': 'beräkning',\n",
       "  'UPOS': 'NOUN',\n",
       "  'XPOS': 'NN|UTR|SIN|IND|NOM',\n",
       "  'FEATS': 'Case=Nom|Definite=Ind|Gender=Com|Number=Sing',\n",
       "  'HEAD': '10',\n",
       "  'DEPREL': 'obl',\n",
       "  'DEPS': '10:obl:för',\n",
       "  'MISC': '_'},\n",
       " '13': {'ID': '13',\n",
       "  'FORM': 'av',\n",
       "  'LEMMA': 'av',\n",
       "  'UPOS': 'ADP',\n",
       "  'XPOS': 'PP',\n",
       "  'FEATS': '_',\n",
       "  'HEAD': '15',\n",
       "  'DEPREL': 'case',\n",
       "  'DEPS': '15:case',\n",
       "  'MISC': '_'},\n",
       " '14': {'ID': '14',\n",
       "  'FORM': 'statlig',\n",
       "  'LEMMA': 'statlig',\n",
       "  'UPOS': 'ADJ',\n",
       "  'XPOS': 'JJ|POS|UTR|SIN|IND|NOM',\n",
       "  'FEATS': 'Case=Nom|Definite=Ind|Degree=Pos|Gender=Com|Number=Sing',\n",
       "  'HEAD': '15',\n",
       "  'DEPREL': 'amod',\n",
       "  'DEPS': '15:amod',\n",
       "  'MISC': '_'},\n",
       " '15': {'ID': '15',\n",
       "  'FORM': 'inkomstskatt',\n",
       "  'LEMMA': 'inkomstskatt',\n",
       "  'UPOS': 'NOUN',\n",
       "  'XPOS': 'NN|UTR|SIN|IND|NOM',\n",
       "  'FEATS': 'Case=Nom|Definite=Ind|Gender=Com|Number=Sing',\n",
       "  'HEAD': '12',\n",
       "  'DEPREL': 'nmod',\n",
       "  'DEPS': '12:nmod:av',\n",
       "  'MISC': 'SpaceAfter=No'},\n",
       " '16': {'ID': '16',\n",
       "  'FORM': '.',\n",
       "  'LEMMA': '.',\n",
       "  'UPOS': 'PUNCT',\n",
       "  'XPOS': 'MAD',\n",
       "  'FEATS': '_',\n",
       "  'HEAD': '2',\n",
       "  'DEPREL': 'punct',\n",
       "  'DEPS': '2:punct',\n",
       "  'MISC': '_'}}"
      ]
     },
     "execution_count": 11,
     "metadata": {},
     "output_type": "execute_result"
    }
   ],
   "source": [
    "formatted_corpus_dict = convert_to_dict(formatted_corpus)\n",
    "formatted_corpus_dict[2]"
   ]
  },
  {
   "cell_type": "markdown",
   "metadata": {},
   "source": [
    "### Extracting the subject-verb pairs"
   ]
  },
  {
   "cell_type": "markdown",
   "metadata": {},
   "source": [
    "Now you will extract the subject-verb pairs, where you will set the words in lowercase. In the second sentence of the corpus, this corresponds to `(beskattning, införs)`. You will call the function `extract_pairs(formatted_corpus_dict)` and and you will store the results in a `pairs_sv` variable. All the corpora in the universal dependencies format use the same function names: `nsubj` and `obj` for the subject and direct object.\n",
    "\n",
    "You can use the algorithm you want. However, here are some hints on the results:\n",
    "* You will extract all the subject-verb pairs in the corpus. In the extraction, just check the function between two words. Do not check if the part of speech is a verb or a noun in the pair. You will also ignore the possible function suffixes as in `nsubj:pass`, where `pass` means passive.\n",
    "* You will return the results as Python's dictionaries, where the key will be the pair and the value, the count, as for instance `{(beskattning, införs): 1}`. Be sure you understand the Python dictionaries and note that you can use tuples as keys."
   ]
  },
  {
   "cell_type": "code",
   "execution_count": 31,
   "metadata": {},
   "outputs": [],
   "source": [
    "# Write your code here\n",
    "def extract_pairs(formatted_corpus_dict):\n",
    "    sub_verb_dict={}\n",
    "    for sentence in formatted_corpus_dict:\n",
    "        for word_id in sentence:\n",
    "            if 'nsubj' in sentence[word_id]['DEPREL']:\n",
    "                sub=sentence[word_id]['FORM'].lower()\n",
    "                head_id=sentence[word_id]['HEAD']\n",
    "                verb=sentence[head_id]['FORM'].lower()\n",
    "                pair=(sub, verb)\n",
    "                if pair in sub_verb_dict:\n",
    "                    sub_verb_dict[pair]+=1\n",
    "                else:\n",
    "                    sub_verb_dict[pair]=1\n",
    "    return sub_verb_dict;"
   ]
  },
  {
   "cell_type": "code",
   "execution_count": 32,
   "metadata": {},
   "outputs": [],
   "source": [
    "pairs_sv = extract_pairs(formatted_corpus_dict)"
   ]
  },
  {
   "cell_type": "markdown",
   "metadata": {},
   "source": [
    "You will compute the total number of subject-verb pairs. You should find 6,083 pairs."
   ]
  },
  {
   "cell_type": "code",
   "execution_count": 33,
   "metadata": {},
   "outputs": [
    {
     "data": {
      "text/plain": [
       "6083"
      ]
     },
     "execution_count": 33,
     "metadata": {},
     "output_type": "execute_result"
    }
   ],
   "source": [
    "sum([pairs_sv[pair] for pair in pairs_sv])"
   ]
  },
  {
   "cell_type": "markdown",
   "metadata": {},
   "source": [
    "#### Finding the most frequent pairs"
   ]
  },
  {
   "cell_type": "markdown",
   "metadata": {},
   "source": [
    "You will sort your pairs by frequency and by lexical order of the pairs and store the five most frequent pairs in the `freq_pairs_sv` variable as in:\n",
    "```\n",
    "freq_pairs_sv = [(('som', 'har'), 45),\n",
    "\n",
    " ...]\n",
    " ````\n",
    "\n",
    "Here are the frequencies you should find:\n",
    "```\n",
    "45\n",
    "19\n",
    "19\n",
    "```"
   ]
  },
  {
   "cell_type": "markdown",
   "metadata": {},
   "source": [
    "In all the experiments, we will keep the `nbest` most frequent. In the first experiments, we set `nbest` to 3 first. We will set it to 5 in the last experiment."
   ]
  },
  {
   "cell_type": "code",
   "execution_count": 34,
   "metadata": {},
   "outputs": [],
   "source": [
    "nbest = 3"
   ]
  },
  {
   "cell_type": "code",
   "execution_count": 35,
   "metadata": {},
   "outputs": [],
   "source": [
    "sorted_pairs = sorted(pairs_sv, key=lambda x: (-pairs_sv[x], x))\n",
    "freq_pairs_sv = [(pair, pairs_sv[pair]) for pair in sorted_pairs][:nbest]"
   ]
  },
  {
   "cell_type": "code",
   "execution_count": 36,
   "metadata": {},
   "outputs": [
    {
     "data": {
      "text/plain": [
       "[(('som', 'har'), 45), (('du', 'får'), 19), (('vi', 'har'), 19)]"
      ]
     },
     "execution_count": 36,
     "metadata": {},
     "output_type": "execute_result"
    }
   ],
   "source": [
    "freq_pairs_sv"
   ]
  },
  {
   "cell_type": "markdown",
   "metadata": {},
   "source": [
    "### Extracting the subject-verb-object triples"
   ]
  },
  {
   "cell_type": "markdown",
   "metadata": {},
   "source": [
    "You will now extract all the subject–verb–object triples of the corpus. The object function uses the `obj` code."
   ]
  },
  {
   "cell_type": "code",
   "execution_count": 57,
   "metadata": {},
   "outputs": [],
   "source": [
    "# Write your code here\n",
    "def extract_triples(formatted_corpus_dict):\n",
    "    triples_dict={}\n",
    "    for sentence in formatted_corpus_dict:\n",
    "        for obj_id in sentence:\n",
    "            if sentence[obj_id]['DEPREL'].startswith('obj'):\n",
    "                obj=sentence[obj_id]['FORM'].lower()\n",
    "                head_id=sentence[obj_id]['HEAD']\n",
    "                verb=sentence[head_id]['FORM'].lower()\n",
    "                for sub_id in sentence:\n",
    "                    if 'nsubj' in sentence[sub_id]['DEPREL'] and sentence[sub_id]['HEAD']==head_id:\n",
    "                        sub=sentence[sub_id]['FORM'].lower()\n",
    "                        triple=(sub, verb, obj)\n",
    "                        if triple in triples_dict:\n",
    "                            triples_dict[triple]+=1\n",
    "                        else:\n",
    "                            triples_dict[triple]=1\n",
    "    return triples_dict;"
   ]
  },
  {
   "cell_type": "code",
   "execution_count": 58,
   "metadata": {},
   "outputs": [],
   "source": [
    "triples_sv = extract_triples(formatted_corpus_dict)"
   ]
  },
  {
   "cell_type": "markdown",
   "metadata": {},
   "source": [
    "Compute the total number of triples. You should find 2054 triples."
   ]
  },
  {
   "cell_type": "code",
   "execution_count": 59,
   "metadata": {},
   "outputs": [
    {
     "data": {
      "text/plain": [
       "2054"
      ]
     },
     "execution_count": 59,
     "metadata": {},
     "output_type": "execute_result"
    }
   ],
   "source": [
    "sum([triples_sv[triple] for triple in triples_sv])"
   ]
  },
  {
   "cell_type": "markdown",
   "metadata": {},
   "source": [
    "#### Finding the most frequent triples"
   ]
  },
  {
   "cell_type": "markdown",
   "metadata": {},
   "source": [
    "You will sort your triples by frequency and by lexical order of the pairs and store the three most frequent triples in the `freq_triples_sv` variable as in:\n",
    "```\n",
    "freq_triples_sv = [(('man', 'vänder', 'sig'), 14),\n",
    "\n",
    " ...]\n",
    " ````\n",
    "\n",
    "Here are the frequencies you should find:\n",
    "```\n",
    "14\n",
    "5\n",
    "3\n",
    "```"
   ]
  },
  {
   "cell_type": "code",
   "execution_count": 60,
   "metadata": {},
   "outputs": [],
   "source": [
    "sorted_triples = sorted(triples_sv, key=lambda x: (-triples_sv[x], x))\n",
    "freq_triples_sv = [(triple, triples_sv[triple]) for triple in sorted_triples][:nbest]"
   ]
  },
  {
   "cell_type": "code",
   "execution_count": 61,
   "metadata": {},
   "outputs": [
    {
     "data": {
      "text/plain": [
       "[(('man', 'vänder', 'sig'), 14),\n",
       " (('det', 'rör', 'sig'), 5),\n",
       " (('man', 'söker', 'arbete'), 3)]"
      ]
     },
     "execution_count": 61,
     "metadata": {},
     "output_type": "execute_result"
    }
   ],
   "source": [
    "freq_triples_sv"
   ]
  },
  {
   "cell_type": "markdown",
   "metadata": {},
   "source": [
    "### Multilingual Corpora"
   ]
  },
  {
   "cell_type": "markdown",
   "metadata": {},
   "source": [
    "Once your program is working on Swedish, you will apply it to all the other languages in universal dependencies. The code below returns all the files from a folder with a suffix. Here we consider the training files only."
   ]
  },
  {
   "cell_type": "code",
   "execution_count": 62,
   "metadata": {},
   "outputs": [],
   "source": [
    "def get_files(dir, suffix):\n",
    "    \"\"\"\n",
    "    Returns all the files in a folder ending with suffix\n",
    "    Recursive version\n",
    "    :param dir:\n",
    "    :param suffix:\n",
    "    :return: the list of file names\n",
    "    \"\"\"\n",
    "    files = []\n",
    "    for file in os.listdir(dir):\n",
    "        path = dir + '/' + file\n",
    "        if os.path.isdir(path):\n",
    "            files += get_files(path, suffix)\n",
    "        elif os.path.isfile(path) and file.endswith(suffix):\n",
    "            files.append(path)\n",
    "    return files"
   ]
  },
  {
   "cell_type": "code",
   "execution_count": 63,
   "metadata": {},
   "outputs": [],
   "source": [
    "files = get_files(ud_path, 'train.conllu')"
   ]
  },
  {
   "cell_type": "markdown",
   "metadata": {},
   "source": [
    "#### Dealing with the indices"
   ]
  },
  {
   "cell_type": "markdown",
   "metadata": {},
   "source": [
    "Some corpora expand some tokens into multiwords. This is the case in French, Spanish, and German.\n",
    "        The table below shows examples of such expansions.\n",
    "        <table style=\"width:100%\">\n",
    "            <tr>\n",
    "                <th>French</th>\n",
    "                <th>Spanish</th>\n",
    "                <th>German</th>\n",
    "            </tr>\n",
    "            <tr>\n",
    "                <td><i>du</i>: de le\n",
    "                </td>\n",
    "                <td><i>del</i>: de el\n",
    "                </td>\n",
    "                <td><i>zur</i>: zu der\n",
    "                </td>\n",
    "            </tr>\n",
    "            <tr>\n",
    "                <td><i>des</i>: de les\n",
    "                </td>\n",
    "                <td><i>vámonos</i>: vamos nos\n",
    "                </td>\n",
    "                <td><i>im</i>: in dem\n",
    "                </td>\n",
    "            </tr>\n",
    "        </table>\n",
    "        In the corpora, you have the original tokens as well as the multiwords as with <i>vámonos al mar</i>.\n",
    "        <pre>\n",
    "1-2 vámonos _\n",
    "1 vamos ir\n",
    "2 nos nosotros\n",
    "3-4 al _\n",
    "3 a a\n",
    "4 el el\n",
    "5 mar mar\n",
    "</pre>Read the format description for the details: [<a\n",
    "                href=\"http://universaldependencies.org/format.html\">CoNLL-U format</a>]."
   ]
  },
  {
   "cell_type": "markdown",
   "metadata": {},
   "source": [
    "If you represent the sentences as lists, the item indices are not reliable: In the format description,\n",
    "        the token at position 1 is <i>vamos</i> and not <i>vámonos</i>.\n",
    "        You have two ways to cope with this:\n",
    "1. Either remove all the lines that include a range in the `ID` field, or\n",
    "2. Encode the sentences as dictionaries (I felt this was preferable), where the keys are the `ID` numbers. This is what `convert_to_dict()` does. Here are the results for a sentence from the French CoNLL-U corpus:\n",
    "_Les iris du mâles sont jaunes toute l'année._ Note the `3-4` index and it expansion in `3`and `4`:\n",
    "```\n",
    "{'0': {'ID': '0',  'FORM': 'ROOT',  'LEMMA': 'ROOT',  'UPOS': 'ROOT',  'XPOS': 'ROOT',  'FEATS': 'ROOT',  'HEAD': '0',  'DEPREL': 'ROOT',  'DEPS': '0',  'MISC': 'ROOT'}, \n",
    "'1': {'ID': '1',  'FORM': 'Les',  'LEMMA': 'le',  'UPOS': 'DET',  'XPOS': '_',  'FEATS': 'Definite=Def|Gender=Masc|Number=Plur|PronType=Art',  'HEAD': '2',  'DEPREL': 'det',  'DEPS': '_',  'MISC': 'wordform=les'}, \n",
    "'2': {'ID': '2',  'FORM': 'iris',  'LEMMA': 'iris',  'UPOS': 'NOUN',  'XPOS': '_',  'FEATS': 'Gender=Masc|Number=Plur',  'HEAD': '7',  'DEPREL': 'nsubj',  'DEPS': '_',  'MISC': '_'}, \n",
    "'3-4': {'ID': '3-4',  'FORM': 'du',  'LEMMA': '_',  'UPOS': '_',  'XPOS': '_',  'FEATS': '_',  'HEAD': '_',  'DEPREL': '_',  'DEPS': '_',  'MISC': '_'}, \n",
    "'3': {'ID': '3',  'FORM': 'de',  'LEMMA': 'de',  'UPOS': 'ADP',  'XPOS': '_',  'FEATS': '_',  'HEAD': '5',  'DEPREL': 'case',  'DEPS': '_',  'MISC': '_'}, \n",
    "'4': {'ID': '4',  'FORM': 'le',  'LEMMA': 'le',  'UPOS': 'DET',  'XPOS': '_',  'FEATS': 'Definite=Def|Gender=Masc|Number=Sing|PronType=Art',  'HEAD': '5',  'DEPREL': 'det',  'DEPS': '_',  'MISC': '_'}, \n",
    "'5': {'ID': '5',  'FORM': 'mâles',  'LEMMA': 'mâle',  'UPOS': 'NOUN',  'XPOS': '_',  'FEATS': 'Gender=Masc|Number=Plur',  'HEAD': '2',  'DEPREL': 'nmod',  'DEPS': '_',  'MISC': '_'}, \n",
    "'6': {'ID': '6',  'FORM': 'sont',  'LEMMA': 'être',  'UPOS': 'AUX',  'XPOS': '_',  'FEATS': 'Mood=Ind|Number=Plur|Person=3|Tense=Pres|VerbForm=Fin',  'HEAD': '7',  'DEPREL': 'cop',  'DEPS': '_',  'MISC': '_'}, \n",
    "'7': {'ID': '7',  'FORM': 'jaunes',  'LEMMA': 'jaune',  'UPOS': 'ADJ',  'XPOS': '_',  'FEATS': 'Gender=Masc|Number=Plur',  'HEAD': '0',  'DEPREL': 'root',  'DEPS': '_',  'MISC': '_'}, \n",
    "'8': {'ID': '8',  'FORM': 'toute',  'LEMMA': 'tout',  'UPOS': 'ADJ',  'XPOS': '_',  'FEATS': 'Gender=Fem|Number=Sing',  'HEAD': '10',  'DEPREL': 'amod',  'DEPS': '_',  'MISC': '_'}, \n",
    "'9': {'ID': '9',  'FORM': \"l'\",  'LEMMA': 'le',  'UPOS': 'DET',  'XPOS': '_',  'FEATS': 'Definite=Def|Gender=Fem|Number=Sing|PronType=Art',  'HEAD': '10',  'DEPREL': 'det',  'DEPS': '_',  'MISC': 'SpaceAfter=No'}, \n",
    "'10': {'ID': '10',  'FORM': 'année',  'LEMMA': 'année',  'UPOS': 'NOUN',  'XPOS': '_',  'FEATS': 'Gender=Fem|Number=Sing',  'HEAD': '7',  'DEPREL': 'obl',  'DEPS': '_',  'MISC': 'SpaceAfter=No'}, \n",
    "'11': {'ID': '11',  'FORM': '.',  'LEMMA': '.',  'UPOS': 'PUNCT',  'XPOS': '_',  'FEATS': '_',  'HEAD': '7',  'DEPREL': 'punct',  'DEPS': '_',  'MISC': '_'}}\n",
    "```\n",
    "3. Some corpora have sentence numbers. You solve it by discarding lines starting with a `#`. This is already done in the CoNLL reader."
   ]
  },
  {
   "cell_type": "markdown",
   "metadata": {},
   "source": [
    "#### Extracting the pairs and triples"
   ]
  },
  {
   "cell_type": "markdown",
   "metadata": {},
   "source": [
    "Write a function `extract_pairs_and_triples(formatted_corpus_dict, nbest)` that extracts the `nbest` most frequent pairs and triples of a given corpus and returns two sorted lists of tuples: `frequent_pairs` and `frequent_triples`. You will sort them by frequency and then by alphabetical order of the pair or triple."
   ]
  },
  {
   "cell_type": "code",
   "execution_count": 67,
   "metadata": {},
   "outputs": [],
   "source": [
    "# Write your code here\n",
    "def extract_pairs_and_triples(formatted_corpus_dict, nbest):\n",
    "    sub_verb_dict={}\n",
    "    for sentence in formatted_corpus_dict:\n",
    "        for word_id in sentence:\n",
    "            if '-' in word_id:\n",
    "                    break\n",
    "            if 'nsubj' in sentence[word_id]['DEPREL']:\n",
    "                sub=sentence[word_id]['FORM'].lower()\n",
    "                head_id=sentence[word_id]['HEAD']\n",
    "                if '-' in head_id:\n",
    "                    break\n",
    "                verb=sentence[head_id]['FORM'].lower()\n",
    "                pair=(sub, verb)\n",
    "                if pair in sub_verb_dict:\n",
    "                    sub_verb_dict[pair]+=1\n",
    "                else:\n",
    "                    sub_verb_dict[pair]=1\n",
    "                    \n",
    "    triples_dict={}\n",
    "    for sentence in formatted_corpus_dict:\n",
    "        for obj_id in sentence:\n",
    "            if '-' in word_id:\n",
    "                    break\n",
    "            if sentence[obj_id]['DEPREL'].startswith('obj'):\n",
    "                obj=sentence[obj_id]['FORM'].lower()\n",
    "                head_id=sentence[obj_id]['HEAD']\n",
    "                if '-' in head_id:\n",
    "                    break\n",
    "                verb=sentence[head_id]['FORM'].lower()\n",
    "                for sub_id in sentence:\n",
    "                    if '-' in word_id:\n",
    "                        break\n",
    "                    if 'nsubj' in sentence[sub_id]['DEPREL'] and sentence[sub_id]['HEAD']==head_id:\n",
    "                        sub=sentence[sub_id]['FORM'].lower()\n",
    "                        triple=(sub, verb, obj)\n",
    "                        if triple in triples_dict:\n",
    "                            triples_dict[triple]+=1\n",
    "                        else:\n",
    "                            triples_dict[triple]=1\n",
    "                            \n",
    "    sorted_pairs = sorted(sub_verb_dict, key=lambda x: (-sub_verb_dict[x], x))\n",
    "    frequent_pairs = [(pair, sub_verb_dict[pair]) for pair in sorted_pairs][:nbest]\n",
    "    sorted_triples = sorted(triples_dict, key=lambda x: (-triples_dict[x], x))\n",
    "    frequent_triples = [(triple, triples_dict[triple]) for triple in sorted_triples][:nbest]\n",
    "    return frequent_pairs, frequent_triples;"
   ]
  },
  {
   "cell_type": "markdown",
   "metadata": {},
   "source": [
    "Run your extractor on all the corpora. Note that some corpora have replaced the words by underscores as for one corpus n French. You need then to contact the provider to obtain them."
   ]
  },
  {
   "cell_type": "code",
   "execution_count": 69,
   "metadata": {},
   "outputs": [],
   "source": [
    "# Write your code here\n",
    "frequent_pairs=[]\n",
    "frequent_triples=[]\n",
    "for file in files:\n",
    "    sentences = read_sentences(file)\n",
    "    formatted_corpus = split_rows(sentences, column_names_u)\n",
    "    formatted_corpus_dict = convert_to_dict(formatted_corpus)\n",
    "    freq_pairs, freq_triples = extract_pairs_and_triples(formatted_corpus_dict, nbest)\n",
    "    frequent_pairs.append(freq_pairs)\n",
    "    frequent_triples.append(freq_triples)"
   ]
  },
  {
   "cell_type": "markdown",
   "metadata": {},
   "source": [
    "In your report, you will include the `nbest` most frequent pairs and triples you obtained in **three languages**. You may choose the ones you want.\n",
    "\n",
    "For the checking script, you will extract `nbest` triples in French, Russian, and English. You will rank these triples by frequency, and then by alphabetical order of the triple using `sorted()`. You will use the French GSD corpus, the Russian SynTagRus corpus, and the English EWT corpus. You will store these triples in the following variables:\n",
    "`freq_triples_fr`, `freq_triples_ru`, `freq_triples_en`. Each variable will contain a list of tuples: `(subject, verb, object), freq)`\n",
    "\n",
    "Here is what you should find:\n",
    "\n",
    "French\n",
    "```\n",
    "freq_triples_fr = [(('il', 'fait', 'partie'), 16),\n",
    "\n",
    " ...]\n",
    " ````\n",
    "\n",
    "And the frequencies:\n",
    "```\n",
    "16\n",
    "7\n",
    "7\n",
    "```\n",
    "\n",
    "Russian:\n",
    "```\n",
    "freq_triples_ru = [(('мы', 'имеем', 'дело'), 6),\n",
    "\n",
    " ...]\n",
    " ````\n",
    "\n",
    "And the frequencies:\n",
    "```\n",
    "6\n",
    "4\n",
    "4\n",
    "```\n",
    "\n",
    "English:\n",
    "```\n",
    "freq_triples_en = [(('you', 'have', 'questions'), 22),\n",
    "\n",
    " ...]\n",
    " ````\n",
    "\n",
    "And the frequencies:\n",
    "```\n",
    "22\n",
    "12\n",
    "7\n",
    "```"
   ]
  },
  {
   "cell_type": "code",
   "execution_count": 70,
   "metadata": {},
   "outputs": [],
   "source": [
    "files = [path_fr, path_ru, path_en]"
   ]
  },
  {
   "cell_type": "code",
   "execution_count": 72,
   "metadata": {},
   "outputs": [],
   "source": [
    "# Write your code here\n",
    "sentences = read_sentences(files[0])\n",
    "formatted_corpus = split_rows(sentences, column_names_u)\n",
    "formatted_corpus_dict = convert_to_dict(formatted_corpus)"
   ]
  },
  {
   "cell_type": "code",
   "execution_count": 73,
   "metadata": {},
   "outputs": [
    {
     "data": {
      "text/plain": [
       "[(('il', 'fait', 'partie'), 16),\n",
       " (('elle', 'fait', 'partie'), 7),\n",
       " (('il', 'comptait', 'habitants'), 7)]"
      ]
     },
     "execution_count": 73,
     "metadata": {},
     "output_type": "execute_result"
    }
   ],
   "source": [
    "freq_pairs_fr, freq_triples_fr = extract_pairs_and_triples(formatted_corpus_dict, nbest)\n",
    "freq_triples_fr"
   ]
  },
  {
   "cell_type": "code",
   "execution_count": 74,
   "metadata": {},
   "outputs": [],
   "source": [
    "# Write your code here\n",
    "sentences = read_sentences(files[1])\n",
    "formatted_corpus = split_rows(sentences, column_names_u)\n",
    "formatted_corpus_dict = convert_to_dict(formatted_corpus)"
   ]
  },
  {
   "cell_type": "code",
   "execution_count": 75,
   "metadata": {},
   "outputs": [
    {
     "data": {
      "text/plain": [
       "[(('мы', 'имеем', 'дело'), 6),\n",
       " (('мы', 'имеем', 'что'), 4),\n",
       " (('мы', 'сделаем', 'все'), 4)]"
      ]
     },
     "execution_count": 75,
     "metadata": {},
     "output_type": "execute_result"
    }
   ],
   "source": [
    "freq_pairs_ru, freq_triples_ru = extract_pairs_and_triples(formatted_corpus_dict, nbest)\n",
    "freq_triples_ru"
   ]
  },
  {
   "cell_type": "code",
   "execution_count": 76,
   "metadata": {},
   "outputs": [],
   "source": [
    "# Write your code here\n",
    "sentences = read_sentences(files[2])\n",
    "formatted_corpus = split_rows(sentences, column_names_u)\n",
    "formatted_corpus_dict = convert_to_dict(formatted_corpus)"
   ]
  },
  {
   "cell_type": "code",
   "execution_count": 77,
   "metadata": {},
   "outputs": [
    {
     "data": {
      "text/plain": [
       "[(('you', 'have', 'questions'), 22),\n",
       " (('you', 'think', 'what'), 12),\n",
       " (('i', 'do', 'what'), 7)]"
      ]
     },
     "execution_count": 77,
     "metadata": {},
     "output_type": "execute_result"
    }
   ],
   "source": [
    "freq_pairs_en, freq_triples_en = extract_pairs_and_triples(formatted_corpus_dict, nbest)\n",
    "freq_triples_en"
   ]
  },
  {
   "cell_type": "markdown",
   "metadata": {},
   "source": [
    "## Resolving the entities"
   ]
  },
  {
   "cell_type": "markdown",
   "metadata": {},
   "source": [
    "You will now extract the relations involving named entities, that is where both the subject and the object are proper nouns. \n",
    "\n",
    "Write an `extract_entity_triples(formatted_corpus_dict)` that will process the corpus and return a list of `(subject, verb, object)` triples. You will leave the case as it is in the form, for instance _United States_ and not _united states_.  "
   ]
  },
  {
   "cell_type": "code",
   "execution_count": 79,
   "metadata": {},
   "outputs": [],
   "source": [
    "# Write your code here\n",
    "def extract_entity_triples(formatted_corpus_dict):\n",
    "    triples=[]\n",
    "    for sentence in formatted_corpus_dict:\n",
    "        for obj_id in sentence:\n",
    "            if sentence[obj_id]['DEPREL'].startswith('obj') and sentence[obj_id]['UPOS']=='PROPN':\n",
    "                obj=sentence[obj_id]['FORM']\n",
    "                head_id=sentence[obj_id]['HEAD']\n",
    "                verb=sentence[head_id]['FORM'].lower()\n",
    "                for sub_id in sentence:\n",
    "                    if 'nsubj' in sentence[sub_id]['DEPREL'] and sentence[sub_id]['HEAD']==head_id and sentence[sub_id]['UPOS']=='PROPN':\n",
    "                        sub=sentence[sub_id]['FORM']\n",
    "                        triples.append((sub, verb, obj))\n",
    "    return triples_dict;"
   ]
  },
  {
   "cell_type": "markdown",
   "metadata": {},
   "source": [
    "You will run the `extract_entity_triples()` function one the English EWT corpus. You will store the list in the `entity_relation_en` variable and you will sort it with `sorted()`. You will keep the **five** first triples. "
   ]
  },
  {
   "cell_type": "code",
   "execution_count": 83,
   "metadata": {},
   "outputs": [],
   "source": [
    "nbest = 5"
   ]
  },
  {
   "cell_type": "markdown",
   "metadata": {},
   "source": [
    "The two first triples are:\n",
    "```\n",
    "[('Baba', 'remember', 'George'),\n",
    " ('Beschta', 'told', 'Planet'),\n",
    "...]\n",
    " ```\n",
    "Note that this time, we keep the original case and the triples are in the alphabetical order."
   ]
  },
  {
   "cell_type": "code",
   "execution_count": 84,
   "metadata": {},
   "outputs": [],
   "source": [
    "#Write your code here\n",
    "sentences = read_sentences(path_en)\n",
    "formatted_corpus = split_rows(sentences, column_names_u)\n",
    "formatted_corpus_dict = convert_to_dict(formatted_corpus)\n",
    "entity_relation_en = extract_entity_triples(formatted_corpus_dict)"
   ]
  },
  {
   "cell_type": "code",
   "execution_count": 85,
   "metadata": {},
   "outputs": [
    {
     "data": {
      "text/plain": [
       "[('Baba', 'remember', 'George'),\n",
       " ('Beschta', 'told', 'Planet'),\n",
       " ('Boi', 'beat', 'Lopez'),\n",
       " ('Bush', 'mentioned', 'Arabia'),\n",
       " ('Bush', 'mentioned', 'Osama')]"
      ]
     },
     "execution_count": 85,
     "metadata": {},
     "output_type": "execute_result"
    }
   ],
   "source": [
    "entity_relation_en = sorted(entity_relation_en)[:nbest]\n",
    "entity_relation_en"
   ]
  },
  {
   "cell_type": "markdown",
   "metadata": {},
   "source": [
    "### Optional exercise: Extracting the chunks"
   ]
  },
  {
   "cell_type": "markdown",
   "metadata": {},
   "source": [
    "Extracting only the headword of the subject and object if often incomplete and uninformative. You can extract all the chunk instead. As an optional exercise, you can try a baseline technique and extract adjacent proper nouns. You may also want to apply the chunker of the 4th assignment to the corpus to do this."
   ]
  },
  {
   "cell_type": "markdown",
   "metadata": {},
   "source": [
    "### Optional exercise: Mapping the entities"
   ]
  },
  {
   "cell_type": "markdown",
   "metadata": {},
   "source": [
    "As in the chunker assignment, you may also want to complement your assignment with a entity solver that will link the entities to wikidata."
   ]
  },
  {
   "cell_type": "markdown",
   "metadata": {},
   "source": [
    "## Reading"
   ]
  },
  {
   "cell_type": "markdown",
   "metadata": {},
   "source": [
    "Read the article: _PRISMATIC: Inducing Knowledge from a Large Scale Lexicalized Relation Resource_ by Fan and al. (2010) [<a href=\"http://www.aclweb.org/anthology/W/W10/W10-0915.pdf\">pdf</a>] and write in a few sentences how it relates to your work in this assignment."
   ]
  },
  {
   "cell_type": "markdown",
   "metadata": {},
   "source": [
    "## Submission"
   ]
  },
  {
   "cell_type": "markdown",
   "metadata": {},
   "source": [
    "When you have written all the code and run all the cells, fill in your ID and as well as the name of the notebook."
   ]
  },
  {
   "cell_type": "code",
   "execution_count": 86,
   "metadata": {},
   "outputs": [],
   "source": [
    "STIL_ID = [\"ni5812jo-s\"] # Write your stil ids as a list\n",
    "#CURRENT_NOTEBOOK_PATH = os.path.join(os.getcwd(), \n",
    "CURRENT_NOTEBOOK_PATH =\"5-triples.ipynb\" # Write the name of your notebook"
   ]
  },
  {
   "cell_type": "markdown",
   "metadata": {},
   "source": [
    "The submission code will send your answer. It consists of the pairs and triples in four languages, as well as the triples with named entities."
   ]
  },
  {
   "cell_type": "code",
   "execution_count": 87,
   "metadata": {},
   "outputs": [
    {
     "data": {
      "text/plain": [
       "'{\"freq_triples_sv\": [[[\"man\", \"v\\\\u00e4nder\", \"sig\"], 14], [[\"det\", \"r\\\\u00f6r\", \"sig\"], 5], [[\"man\", \"s\\\\u00f6ker\", \"arbete\"], 3]], \"freq_triples_fr\": [[[\"il\", \"fait\", \"partie\"], 16], [[\"elle\", \"fait\", \"partie\"], 7], [[\"il\", \"comptait\", \"habitants\"], 7]], \"freq_triples_ru\": [[[\"\\\\u043c\\\\u044b\", \"\\\\u0438\\\\u043c\\\\u0435\\\\u0435\\\\u043c\", \"\\\\u0434\\\\u0435\\\\u043b\\\\u043e\"], 6], [[\"\\\\u043c\\\\u044b\", \"\\\\u0438\\\\u043c\\\\u0435\\\\u0435\\\\u043c\", \"\\\\u0447\\\\u0442\\\\u043e\"], 4], [[\"\\\\u043c\\\\u044b\", \"\\\\u0441\\\\u0434\\\\u0435\\\\u043b\\\\u0430\\\\u0435\\\\u043c\", \"\\\\u0432\\\\u0441\\\\u0435\"], 4]], \"freq_triples_en\": [[[\"you\", \"have\", \"questions\"], 22], [[\"you\", \"think\", \"what\"], 12], [[\"i\", \"do\", \"what\"], 7]], \"entity_relation_en\": [[\"Baba\", \"remember\", \"George\"], [\"Beschta\", \"told\", \"Planet\"], [\"Boi\", \"beat\", \"Lopez\"], [\"Bush\", \"mentioned\", \"Arabia\"], [\"Bush\", \"mentioned\", \"Osama\"]]}'"
      ]
     },
     "execution_count": 87,
     "metadata": {},
     "output_type": "execute_result"
    }
   ],
   "source": [
    "import json\n",
    "ANSWER = json.dumps({'freq_triples_sv': freq_triples_sv,\n",
    "                     'freq_triples_fr': freq_triples_fr,\n",
    "                     'freq_triples_ru': freq_triples_ru,\n",
    "                     'freq_triples_en': freq_triples_en,\n",
    "                     'entity_relation_en': entity_relation_en\n",
    "                    })\n",
    "ANSWER"
   ]
  },
  {
   "cell_type": "markdown",
   "metadata": {},
   "source": [
    "Now the moment of truth:\n",
    "1. Save your notebook and\n",
    "2. Run the cells below"
   ]
  },
  {
   "cell_type": "code",
   "execution_count": 88,
   "metadata": {},
   "outputs": [],
   "source": [
    "SUBMISSION_NOTEBOOK_PATH = CURRENT_NOTEBOOK_PATH + \".submission.bz2\""
   ]
  },
  {
   "cell_type": "code",
   "execution_count": 89,
   "metadata": {},
   "outputs": [],
   "source": [
    "import bz2\n",
    "ASSIGNMENT = 5\n",
    "API_KEY = \"f581ba347babfea0b8f2c74a3a6776a7\"\n",
    "\n",
    "# Copy and compress current notebook\n",
    "with bz2.open(SUBMISSION_NOTEBOOK_PATH, mode=\"wb\") as fout:\n",
    "    with open(CURRENT_NOTEBOOK_PATH, \"rb\") as fin:\n",
    "        fout.write(fin.read())"
   ]
  },
  {
   "cell_type": "code",
   "execution_count": 90,
   "metadata": {},
   "outputs": [
    {
     "data": {
      "text/plain": [
       "{'msg': None,\n",
       " 'status': 'correct',\n",
       " 'signature': 'b7518270d4aec4bae03870db6a147dd519594743d819303b41240d513b4fcc44f536caeb5299844799b95c22a28e7fcc752549984add6bd61cbc6faf01cd6a88',\n",
       " 'submission_id': 'bc544573-416c-438f-8df7-54b1280b96f9'}"
      ]
     },
     "execution_count": 90,
     "metadata": {},
     "output_type": "execute_result"
    }
   ],
   "source": [
    "import requests\n",
    "res = requests.post(\"https://vilde.cs.lth.se/edan20checker/submit\", \n",
    "                    files={\"notebook_file\": open(SUBMISSION_NOTEBOOK_PATH, \"rb\")}, \n",
    "                    data={\n",
    "                        \"stil_id\": STIL_ID,\n",
    "                        \"assignment\": ASSIGNMENT,\n",
    "                        \"answer\": ANSWER,\n",
    "                        \"api_key\": API_KEY,\n",
    "                    },\n",
    "               verify=True)\n",
    "\n",
    "# from IPython.display import display, JSON\n",
    "res.json()"
   ]
  },
  {
   "cell_type": "code",
   "execution_count": null,
   "metadata": {},
   "outputs": [],
   "source": []
  }
 ],
 "metadata": {
  "kernelspec": {
   "display_name": "Python 3",
   "language": "python",
   "name": "python3"
  },
  "language_info": {
   "codemirror_mode": {
    "name": "ipython",
    "version": 3
   },
   "file_extension": ".py",
   "mimetype": "text/x-python",
   "name": "python",
   "nbconvert_exporter": "python",
   "pygments_lexer": "ipython3",
   "version": "3.7.3"
  }
 },
 "nbformat": 4,
 "nbformat_minor": 4
}
