{
 "cells": [
  {
   "cell_type": "markdown",
   "metadata": {},
   "source": [
    "# Assignment #2: Language models"
   ]
  },
  {
   "cell_type": "markdown",
   "metadata": {},
   "source": [
    "## Objectives"
   ]
  },
  {
   "cell_type": "markdown",
   "metadata": {},
   "source": [
    "The objectives of this assignment are to:\n",
    "* Write a program to find n-gram statistics\n",
    "* Compute the probability of a sentence\n",
    "* Know what a language model is\n",
    "* Write a short report of 1 to 2 pages on the assignment\n",
    "* Optionally read a short article on the importance of corpora\n"
   ]
  },
  {
   "cell_type": "markdown",
   "metadata": {},
   "source": [
    "## Submission"
   ]
  },
  {
   "cell_type": "markdown",
   "metadata": {},
   "source": [
    "Once you have written all the missing code and run all the cells, you will submit your notebook to an automatic marking system. Do not erase the content of the cells as we will possibly check your programs manually.\n",
    "The submission instructions are at the bottom of the notebook."
   ]
  },
  {
   "cell_type": "markdown",
   "metadata": {},
   "source": [
    "## Organization"
   ]
  },
  {
   "cell_type": "markdown",
   "metadata": {},
   "source": [
    "* Each group will have to write Python programs to count unigrams, bigrams, and trigrams in a corpus of approximately one million words and to determine the probability of a sentence.\n",
    "* You can test you regular expression using the regex101.com site\n",
    "* Each student will have to write a short report of one to two pages and comment briefly the results. In your report, you must produce the tabulated results of your analysis as described below."
   ]
  },
  {
   "cell_type": "markdown",
   "metadata": {},
   "source": [
    "## Programming"
   ]
  },
  {
   "cell_type": "markdown",
   "metadata": {},
   "source": [
    "### Imports"
   ]
  },
  {
   "cell_type": "markdown",
   "metadata": {},
   "source": [
    "Some imports you may need. Add others as needed."
   ]
  },
  {
   "cell_type": "code",
   "execution_count": 1,
   "metadata": {},
   "outputs": [],
   "source": [
    "import bz2\n",
    "import math\n",
    "import os\n",
    "import regex as re\n",
    "import requests\n",
    "import sys\n",
    "from zipfile import ZipFile"
   ]
  },
  {
   "cell_type": "markdown",
   "metadata": {},
   "source": [
    "### Collecting and analyzing a corpus"
   ]
  },
  {
   "cell_type": "markdown",
   "metadata": {},
   "source": [
    "Retrieve a corpus of novels by Selma Lagerl&ouml;f from this URL:\n",
    "<a href=\"https://github.com/pnugues/ilppp/blob/master/programs/corpus/Selma.txt\">\n",
    "    <tt>https://github.com/pnugues/ilppp/blob/master/programs/corpus/Selma.txt</tt>\n",
    "</a>. The text of these novels was extracted\n",
    "from <a href=\"https://litteraturbanken.se/forfattare/LagerlofS/titlar\">Lagerlöf arkivet</a> at\n",
    "<a href=\"https://litteraturbanken.se/\">Litteraturbanken</a>."
   ]
  },
  {
   "cell_type": "code",
   "execution_count": 2,
   "metadata": {},
   "outputs": [],
   "source": [
    "# You may have to adjust the path\n",
    "corpus = open('Selma.txt', encoding='utf8').read()"
   ]
  },
  {
   "cell_type": "markdown",
   "metadata": {},
   "source": [
    "Run the <a href=\"https://github.com/pnugues/ilppp/tree/master/programs/ch02/python\">concordance\n",
    "program </a> to print the lines containing a specific word, for instance <i>Nils</i>."
   ]
  },
  {
   "cell_type": "code",
   "execution_count": 3,
   "metadata": {},
   "outputs": [],
   "source": [
    "pattern = 'Nils Holgersson'\n",
    "width = 25"
   ]
  },
  {
   "cell_type": "code",
   "execution_count": 4,
   "metadata": {},
   "outputs": [
    {
     "name": "stdout",
     "output_type": "stream",
     "text": [
      "Selma Lagerlöf Nils Holgerssons underbara resa genom Sv\n",
      "! Se på Tummetott! Se på Nils Holgersson Tummetott!» Genast vände\n",
      "r,» sade han. »Jag heter Nils Holgersson och är son till en husma\n",
      "lden. »Inte är det värt, Nils Holgersson, att du är ängslig eller\n",
      " i dem. På den tiden, då Nils Holgersson drog omkring med vildgäs\n",
      "ulle allt visa honom vad Nils Holgersson från Västra Vemmenhög va\n",
      "om ägde rum det året, då Nils Holgersson for omkring med vildgäss\n",
      "m vad det kan kosta dem. Nils Holgersson hade inte haft förstånd \n",
      "de det inte mer sägas om Nils Holgersson, att han inte tyckte om \n",
      " Rosenbom?» För där stod Nils Holgersson mitt uppe på Rosenboms n\n",
      " Med ens fingo de syn på Nils Holgersson, och då sköt den store v\n",
      "vila. När vildgässen och Nils Holgersson äntligen hade letat sig \n",
      " slags arbetare. Men vad Nils Holgersson inte såg, det var, att s\n",
      "nde han fråga, och om då Nils Holgersson sade nej, började han ge\n",
      "de lille Mats, och om nu Nils Holgersson också hade tegat, så had\n",
      "åg så försmädlig ut, att Nils Holgersson kastade sig över honom f\n",
      " brodern. Och inte ville Nils Holgersson slåss med en tös, utan h\n",
      "örkar. På den tiden, när Nils Holgersson for omkring med vildgäss\n",
      " ryckte omkull honom. Om Nils Holgersson genast hade ropat på hjä\n",
      "u reda dig på egen hand, Nils Holgersson,» sade han då till sig s\n",
      "r satte Fumle-Drumle ner Nils Holgersson på bottnen av en sandgro\n",
      "mlingarna. – »Jo, jag är Nils Holgersson från Västra Vemmenhög, s\n",
      "rakten. På den tiden, då Nils Holgersson for omkring med vildgäss\n",
      "Jo, det står – Det står: Nils Holgersson fr. V. Vemmenhög.» »Det \n",
      "visan 1 Sveriges karta 2 Nils Holgerssons underbara resa genom Sv\n",
      "admalsvåden 233 ________ Nils Holgerssons underbara resa genom Sv\n",
      "R. Tolv år ungefär innan Nils Holgersson hade börjat resa omkring\n",
      "och leta efter föda, men Nils Holgersson hade på morgonen tappat \n",
      "ill i Närke det året, då Nils Holgersson for fram över landskapet\n",
      "hade flyttat tassen över Nils Holgerssons ansikte, så att den sta\n",
      "29 april. Denna dag fick Nils Holgersson se södra Dalarna. Vildgä\n",
      "rliga sjön. Det året, då Nils Holgersson for med vildgässen genom\n",
      "t skänka upptäckten till Nils Holgersson. Det var ju både det tro\n",
      " som sången varade, stod Nils Holgersson och lyssnade till den, m\n",
      "ova på en vassrugge. Vad Nils Holgersson angår, så var han för hu\n",
      "e svårt för en sådan som Nils Holgersson att finna en farkost. Ha\n",
      "r de hade kommit mittför Nils Holgersson, slogo de sig ner på ett\n",
      " 5 maj. På den tiden, då Nils Holgersson drog genom landet med vi\n",
      "an vara bra lycklig. Att Nils Holgersson, som för ett par timmar \n",
      " afton. Och således hade Nils Holgersson fått se studenterna, när\n",
      "nger under marschen. Men Nils Holgersson hade tyckt, att det inte\n",
      "och glädja så som dessa. Nils Holgersson hade mest sett på studen\n",
      "m, stannade han. »Jag är Nils Holgersson från Västra Vemmenhög,» \n",
      " Ett par år före det, då Nils Holgersson drog omkring med vildgäs\n",
      " detsamma fattade han om Nils Holgersson med sin stora fot, höjde\n",
      "t ingen mer än den lilla Nils Holgersson, som följde henne. Solen\n",
      " voro klädda med is, och Nils Holgersson ville följa henne dit in\n",
      "t Lappland är mitt!» Men Nils Holgersson hade blivit så ängslig, \n",
      " över klippväggarna, och Nils Holgersson kunde förstå, att det va\n",
      " SJUKDOMEN. Det året, då Nils Holgersson for omkring med vildgäss\n",
      "jligt att undgå den. Vad Nils Holgersson beträffar, så hade han h\n",
      "hade hon slagit klorna i Nils Holgerssons skuldra och hackade eft\n",
      "g, att just det året, då Nils Holgersson for omkring med vildgäss\n",
      " lönt att vara bedrövad, Nils Holgersson,» sade solen. »Världen ä\n",
      "åga om han inte kunde ge Nils Holgersson bättre villkor. ’Det öns\n",
      "du vill,’ sade han. ’Med Nils Holgersson blir det ändå så, som ja\n",
      "a haft av honom. Ja, säg Nils Holgersson, att föräldrarna redan h\n",
      "Västergötland. Den lille Nils Holgersson hade krupit upp på en la\n",
      " honom sämre.» Den lille Nils Holgersson hade följt med barnen he\n",
      "e bara störa.» Då tyckte Nils Holgersson, att när ingen annan gjo\n",
      "n färdig att följa det.» Nils Holgersson sprang raskt neråt vägen\n",
      "rott mellan de unga. Vad Nils Holgersson beträffar, så hade han i\n",
      "on gav sig tid att se på Nils Holgersson, innan hon stötte till. \n",
      " ändå alldeles olik. Den Nils Holgersson, som hade farit bort i v\n",
      " tro det. Välkommen hem, Nils Holgersson, välkommen hem! Det här \n",
      "mig här på gården,» sade Nils Holgersson. »Min egen mor tror, att\n",
      "on riktig sjukdom,» sade Nils Holgersson. »Jag får försöka ställa\n",
      "in kniv här på din hov?» Nils Holgersson var nätt och jämnt färdi\n",
      "sslingen, som var så lik Nils Holgersson, att om det inte var han\n",
      "pojken fanns i närheten. Nils Holgersson hörde honom nog, men han\n",
      "ottrar ihop ett tack för Nils Holgersson? Vad skulle det ha blivi\n"
     ]
    }
   ],
   "source": [
    "# spaces match tabs and newlines\n",
    "pattern = re.sub(' ', '\\\\s+', pattern)\n",
    "# Replaces newlines with spaces in the text\n",
    "clean_corpus = re.sub('\\s+', ' ', corpus)\n",
    "concordance = ('(.{{0,{width}}}{pattern}.{{0,{width}}})'\n",
    "               .format(pattern=pattern, width=width))\n",
    "for match in re.finditer(concordance, clean_corpus):\n",
    "    print(match.group(1))\n",
    "# print the string with 0..width characters on either side"
   ]
  },
  {
   "cell_type": "markdown",
   "metadata": {},
   "source": [
    "Run a simple <a href=\"https://github.com/pnugues/ilppp/tree/master/programs/ch05/python\">tokenization\n",
    "program</a> on your corpus."
   ]
  },
  {
   "cell_type": "code",
   "execution_count": 5,
   "metadata": {},
   "outputs": [],
   "source": [
    "def tokenize(text):\n",
    "    words = re.findall('\\p{L}+', text)\n",
    "    return words"
   ]
  },
  {
   "cell_type": "code",
   "execution_count": 6,
   "metadata": {},
   "outputs": [
    {
     "data": {
      "text/plain": [
       "['Selma',\n",
       " 'Lagerlöf',\n",
       " 'Nils',\n",
       " 'Holgerssons',\n",
       " 'underbara',\n",
       " 'resa',\n",
       " 'genom',\n",
       " 'Sverige',\n",
       " 'Första',\n",
       " 'bandet']"
      ]
     },
     "execution_count": 6,
     "metadata": {},
     "output_type": "execute_result"
    }
   ],
   "source": [
    "words = tokenize(corpus)\n",
    "words[:10]"
   ]
  },
  {
   "cell_type": "markdown",
   "metadata": {},
   "source": [
    "Count the number of unique words in the original corpus and when setting all the words in lowercase"
   ]
  },
  {
   "cell_type": "markdown",
   "metadata": {},
   "source": [
    "Original text"
   ]
  },
  {
   "cell_type": "code",
   "execution_count": 7,
   "metadata": {},
   "outputs": [
    {
     "data": {
      "text/plain": [
       "44256"
      ]
     },
     "execution_count": 7,
     "metadata": {},
     "output_type": "execute_result"
    }
   ],
   "source": [
    "len(set(words))"
   ]
  },
  {
   "cell_type": "markdown",
   "metadata": {},
   "source": [
    "Lowercased text"
   ]
  },
  {
   "cell_type": "code",
   "execution_count": 8,
   "metadata": {},
   "outputs": [
    {
     "data": {
      "text/plain": [
       "41032"
      ]
     },
     "execution_count": 8,
     "metadata": {},
     "output_type": "execute_result"
    }
   ],
   "source": [
    "words=tokenize(corpus.lower())\n",
    "len(set(words))"
   ]
  },
  {
   "cell_type": "markdown",
   "metadata": {},
   "source": [
    "### Segmenting a corpus"
   ]
  },
  {
   "cell_type": "markdown",
   "metadata": {},
   "source": [
    "You will write a program to tokenize your text, insert `<s>` and `</s>` tags to delimit sentences, and set all the words in lowercase letters. In the end, you will only keep the words."
   ]
  },
  {
   "cell_type": "markdown",
   "metadata": {},
   "source": [
    "#### Normalizing "
   ]
  },
  {
   "cell_type": "markdown",
   "metadata": {},
   "source": [
    "Write a regular expression that matches all the characters that are neither a letter nor a punctuation sign. The punctuations signs will be the followings: `.;:?!`. In your regex, use the same order. For the definition of a letter, use a Unicode regex. You will call the regex string `nonletter`"
   ]
  },
  {
   "cell_type": "code",
   "execution_count": 9,
   "metadata": {},
   "outputs": [],
   "source": [
    "# Write your code\n",
    "nonletter = r'[^\\p{L}.;:?!]'"
   ]
  },
  {
   "cell_type": "markdown",
   "metadata": {},
   "source": [
    "Write a `clean()` function that replaces all the characters that are neither a letter nor a punctuation sign with a space. The punctuations signs will be the followings: `.;:?!`.   For the sentence:\n",
    "\n",
    "_En gång hade de på Mårbacka en barnpiga, som hette Back-Kajsa._\n",
    "\n",
    "the result will be:\n",
    "\n",
    "`En gång hade de på Mårbacka en barnpiga som hette Back Kajsa.`"
   ]
  },
  {
   "cell_type": "code",
   "execution_count": 10,
   "metadata": {},
   "outputs": [],
   "source": [
    "# Write your code here\n",
    "def clean(text):\n",
    "    return re.sub(nonletter, r'\\u0020', text)"
   ]
  },
  {
   "cell_type": "code",
   "execution_count": 11,
   "metadata": {},
   "outputs": [],
   "source": [
    "test_para = 'En gång hade de på Mårbacka en barnpiga, som hette Back-Kajsa. \\\n",
    "Hon var nog sina tre alnar lång, hon hade ett stort, grovt ansikte med stränga, mörka drag, \\\n",
    "hennes händer voro hårda och fulla av sprickor, som barnens hår fastnade i, \\\n",
    "när hon kammade dem, och till humöret var hon dyster och sorgbunden.'"
   ]
  },
  {
   "cell_type": "code",
   "execution_count": 12,
   "metadata": {},
   "outputs": [
    {
     "data": {
      "text/plain": [
       "'En gång hade de på Mårbacka en barnpiga  som hette Back Kajsa. Hon var nog sina tre alnar lång  hon hade ett stort  grovt ansikte med stränga  mörka drag  hennes händer voro hårda och fulla av sprickor  som barnens hår fastnade i  när hon kammade dem  och till humöret var hon dyster och sorgbunden.'"
      ]
     },
     "execution_count": 12,
     "metadata": {},
     "output_type": "execute_result"
    }
   ],
   "source": [
    "test_para = clean(test_para)\n",
    "test_para"
   ]
  },
  {
   "cell_type": "markdown",
   "metadata": {},
   "source": [
    "#### Segmenter"
   ]
  },
  {
   "cell_type": "markdown",
   "metadata": {},
   "source": [
    "In this section, you will write a sentence segmenter that will delimit each sentence with `</s>` and `<s>` symbols. For example the sentence:\n",
    "\n",
    "_En gång hade de på Mårbacka en barnpiga, som hette Back-Kajsa._\n",
    "\n",
    "will be bracketed as:\n",
    "\n",
    "`<s> En gång hade de på Mårbacka en barnpiga som hette Back-Kajsa </s>`\n",
    "\n",
    "As algorithm, you will use a simple heuristics to detect the sentence boundaries: A sentence starts with a capital letter and ends with a period-equivalent punctuation sign. You will write a regex to match these boundaries with a regular expression and you will insert `</s>\\n<s>` symbols with a substitution function."
   ]
  },
  {
   "cell_type": "markdown",
   "metadata": {},
   "source": [
    "##### Detecting sentence boundaries"
   ]
  },
  {
   "cell_type": "markdown",
   "metadata": {},
   "source": [
    "Write a regular expression that matches a punctuation, a sequence of spaces, and an uppercase letter. Call this regex string `sentence_boundaries`. In the regex, you will remember the value of the uppercase letter using a backreference. Use the Unicode regexes for the letters and the spaces."
   ]
  },
  {
   "cell_type": "code",
   "execution_count": 13,
   "metadata": {},
   "outputs": [],
   "source": [
    "# Write your code here\n",
    "sentence_boundaries = r'[.;:?!][\\u0020]+(\\p{Lu})'"
   ]
  },
  {
   "cell_type": "markdown",
   "metadata": {},
   "source": [
    "##### Replacement markup"
   ]
  },
  {
   "cell_type": "markdown",
   "metadata": {},
   "source": [
    "Write a string to replace the matched boundaries with the sentence boundary markup. Remember that a sentence ends with `</s>` and starts with `<s>` and that there is one sentence per line. Hint: The markup is `</s>\\n<s>`. Remember also that the first letter of your sentence is in a regex backreference. Call the regex string `sentence_markup`."
   ]
  },
  {
   "cell_type": "code",
   "execution_count": 14,
   "metadata": {},
   "outputs": [],
   "source": [
    "# Write your code here\n",
    "sentence_markup = r'\\u0020</s>\\n<s>\\u0020\\1'"
   ]
  },
  {
   "cell_type": "markdown",
   "metadata": {},
   "source": [
    "##### Applying the substitution"
   ]
  },
  {
   "cell_type": "markdown",
   "metadata": {},
   "source": [
    "Use your regexes to segment your text. Use the string `sentence_boundaries`, `sentence_markup`, and `test_para` as input and `text` as output."
   ]
  },
  {
   "cell_type": "code",
   "execution_count": 15,
   "metadata": {},
   "outputs": [],
   "source": [
    "# Write your code here\n",
    "text= re.sub(sentence_boundaries, sentence_markup, test_para)"
   ]
  },
  {
   "cell_type": "code",
   "execution_count": 16,
   "metadata": {},
   "outputs": [
    {
     "name": "stdout",
     "output_type": "stream",
     "text": [
      "En gång hade de på Mårbacka en barnpiga  som hette Back Kajsa </s>\n",
      "<s> Hon var nog sina tre alnar lång  hon hade ett stort  grovt ansikte med stränga  mörka drag  hennes händer voro hårda och fulla av sprickor  som barnens hår fastnade i  när hon kammade dem  och till humöret var hon dyster och sorgbunden.\n"
     ]
    }
   ],
   "source": [
    "print(text)"
   ]
  },
  {
   "cell_type": "markdown",
   "metadata": {},
   "source": [
    "The output should look like this:\n",
    "\n",
    "`En gång hade de på Mårbacka en barnpiga, som hette Back-Kajsa </s>\n",
    "<s> Hon var nog sina tre alnar lång, hon hade ett stort, grovt ansikte med stränga, mörka drag, hennes händer voro hårda och fulla av sprickor, som barnens hår fastnade i, när hon kammade dem, och till humöret var hon dyster och sorgbunden.`"
   ]
  },
  {
   "cell_type": "markdown",
   "metadata": {},
   "source": [
    "Insert markup codes in the beginning and end of the text"
   ]
  },
  {
   "cell_type": "code",
   "execution_count": 17,
   "metadata": {},
   "outputs": [
    {
     "name": "stdout",
     "output_type": "stream",
     "text": [
      "<s> En gång hade de på Mårbacka en barnpiga  som hette Back Kajsa </s>\n",
      "<s> Hon var nog sina tre alnar lång  hon hade ett stort  grovt ansikte med stränga  mörka drag  hennes händer voro hårda och fulla av sprickor  som barnens hår fastnade i  när hon kammade dem  och till humöret var hon dyster och sorgbunden. </s>\n"
     ]
    }
   ],
   "source": [
    "# Write your code here\n",
    "text = '<s> '+ text + ' </s>'\n",
    "print(text)"
   ]
  },
  {
   "cell_type": "markdown",
   "metadata": {},
   "source": [
    "The output should look like this:\n",
    "\n",
    "`<s> En gång hade de på Mårbacka en barnpiga, som hette Back-Kajsa </s>\n",
    "<s> Hon var nog sina tre alnar lång, hon hade ett stort, grovt ansikte med stränga, mörka drag, hennes händer voro hårda och fulla av sprickor, som barnens hår fastnade i, när hon kammade dem, och till humöret var hon dyster och sorgbunden. </s>`"
   ]
  },
  {
   "cell_type": "markdown",
   "metadata": {},
   "source": [
    "Replace the space duplicates with one space and remove the punctuation signs. For the spaces, use the Unicode regex."
   ]
  },
  {
   "cell_type": "code",
   "execution_count": 18,
   "metadata": {},
   "outputs": [
    {
     "name": "stdout",
     "output_type": "stream",
     "text": [
      "<s> En gång hade de på Mårbacka en barnpiga som hette Back Kajsa </s>\n",
      "<s> Hon var nog sina tre alnar lång hon hade ett stort grovt ansikte med stränga mörka drag hennes händer voro hårda och fulla av sprickor som barnens hår fastnade i när hon kammade dem och till humöret var hon dyster och sorgbunden </s>\n"
     ]
    }
   ],
   "source": [
    "# Write your code here\n",
    "text = re.sub('\\u0020+','\\u0020',text)\n",
    "text = re.sub('\\.','',text)\n",
    "print(text)"
   ]
  },
  {
   "cell_type": "markdown",
   "metadata": {},
   "source": [
    "The output should look like this:\n",
    "    \n",
    "`<s> En gång hade de på Mårbacka en barnpiga, som hette Back-Kajsa </s>\n",
    "<s> Hon var nog sina tre alnar lång, hon hade ett stort, grovt ansikte med stränga, mörka drag, hennes händer voro hårda och fulla av sprickor, som barnens hår fastnade i, när hon kammade dem, och till humöret var hon dyster och sorgbunden </s>`"
   ]
  },
  {
   "cell_type": "markdown",
   "metadata": {},
   "source": [
    "Write a `segment_sentences(text)` function to gather the code in the Segmenter section and set the text in lowercase"
   ]
  },
  {
   "cell_type": "code",
   "execution_count": 19,
   "metadata": {},
   "outputs": [],
   "source": [
    "# Write your code here\n",
    "def segment_sentences(text):\n",
    "    text = clean(text)\n",
    "    text= re.sub(sentence_boundaries, sentence_markup, text)\n",
    "    text = '<s> '+ text + ' </s>'\n",
    "    text = re.sub(r'[.;:?!]','\\u0020',text)\n",
    "    text = re.sub('\\u0020+','\\u0020',text)\n",
    "    return text.lower()\n",
    "    \n"
   ]
  },
  {
   "cell_type": "code",
   "execution_count": 20,
   "metadata": {},
   "outputs": [
    {
     "name": "stdout",
     "output_type": "stream",
     "text": [
      "<s> en gång hade de på mårbacka en barnpiga som hette back kajsa </s>\n",
      "<s> hon var nog sina tre alnar lång hon hade ett stort grovt ansikte med stränga mörka drag hennes händer voro hårda och fulla av sprickor som barnens hår fastnade i när hon kammade dem och till humöret var hon dyster och sorgbunden </s>\n"
     ]
    }
   ],
   "source": [
    "print(segment_sentences(test_para))"
   ]
  },
  {
   "cell_type": "markdown",
   "metadata": {},
   "source": [
    "Estimate roughly the accuracy of your program."
   ]
  },
  {
   "cell_type": "markdown",
   "metadata": {},
   "source": [
    "#### Tokenizing the corpus"
   ]
  },
  {
   "cell_type": "markdown",
   "metadata": {},
   "source": [
    "Clean and segment the corpus"
   ]
  },
  {
   "cell_type": "code",
   "execution_count": 21,
   "metadata": {},
   "outputs": [],
   "source": [
    "corpus = segment_sentences(corpus)# Write your code here"
   ]
  },
  {
   "cell_type": "code",
   "execution_count": 22,
   "metadata": {},
   "outputs": [
    {
     "name": "stdout",
     "output_type": "stream",
     "text": [
      "<s> hon hade fått större kärlek av sina föräldrar än någon annan han visste och sådan kärlek måste vändas i välsignelse </s>\n",
      "<s> då prästen sade detta kom alla människor att se bort mot klara gulla och de förundrade sig över vad de såg </s>\n",
      "<s> prästens ord tycktes redan ha gått i uppfyllelse </s>\n",
      "<s> där stod klara fina gulleborg ifrån skrolycka hon som var uppkallad efter själva solen vid sina föräldrars grav och lyste som en förklarad </s>\n",
      "<s> hon var likaså vacker som den söndagen då hon gick till kyrkan i den röda klänningen om inte vackrare </s>\n"
     ]
    }
   ],
   "source": [
    "print(corpus[-557:])"
   ]
  },
  {
   "cell_type": "markdown",
   "metadata": {},
   "source": [
    "The result should be a normalized text without punctuation signs where all the sentences are delimited with `<s>` and `</s>` tags. The five last lines of the text should look like this:\n",
    "\n",
    "```\n",
    "<s> hon hade fått större kärlek av sina föräldrar än någon annan han visste och sådan kärlek måste vändas i välsignelse </s> \n",
    "<s> då prästen sade detta kom alla människor att se bort mot klara gulla och de förundrade sig över vad de såg </s>\n",
    "<s> prästens ord tycktes redan ha gått i uppfyllelse </s>\n",
    "<s> där stod klara fina gulleborg ifrån skrolycka hon som var uppkallad efter själva solen vid sina föräldrars grav och lyste som en förklarad </s>\n",
    "<s> hon var likaså vacker som den söndagen då hon gick till kyrkan i den röda klänningen om inte vackrare </s>\n",
    "```"
   ]
  },
  {
   "cell_type": "markdown",
   "metadata": {},
   "source": [
    "You will now create a list of words from your string. You will consider that a space or a carriage return is an item separator"
   ]
  },
  {
   "cell_type": "code",
   "execution_count": 23,
   "metadata": {},
   "outputs": [],
   "source": [
    "# Write your code here\n",
    "words= corpus.split()"
   ]
  },
  {
   "cell_type": "code",
   "execution_count": 24,
   "metadata": {},
   "outputs": [
    {
     "name": "stdout",
     "output_type": "stream",
     "text": [
      "['<s>', 'hon', 'hade', 'fått', 'större', 'kärlek', 'av', 'sina', 'föräldrar', 'än', 'någon', 'annan', 'han', 'visste', 'och', 'sådan', 'kärlek', 'måste', 'vändas', 'i', 'välsignelse', '</s>', '<s>', 'då', 'prästen', 'sade', 'detta', 'kom', 'alla', 'människor', 'att', 'se', 'bort', 'mot', 'klara', 'gulla', 'och', 'de', 'förundrade', 'sig', 'över', 'vad', 'de', 'såg', '</s>', '<s>', 'prästens', 'ord', 'tycktes', 'redan', 'ha', 'gått', 'i', 'uppfyllelse', '</s>', '<s>', 'där', 'stod', 'klara', 'fina', 'gulleborg', 'ifrån', 'skrolycka', 'hon', 'som', 'var', 'uppkallad', 'efter', 'själva', 'solen', 'vid', 'sina', 'föräldrars', 'grav', 'och', 'lyste', 'som', 'en', 'förklarad', '</s>', '<s>', 'hon', 'var', 'likaså', 'vacker', 'som', 'den', 'söndagen', 'då', 'hon', 'gick', 'till', 'kyrkan', 'i', 'den', 'röda', 'klänningen', 'om', 'inte', 'vackrare', '</s>']\n"
     ]
    }
   ],
   "source": [
    "print(words[-101:])"
   ]
  },
  {
   "cell_type": "markdown",
   "metadata": {},
   "source": [
    "The five last lines of the corpus should like this:\n",
    "\n",
    "`['<s>', 'hon', 'hade', 'fått', 'större', 'kärlek', 'av', 'sina', 'föräldrar', 'än', 'någon', 'annan', 'han', 'visste', 'och', 'sådan', 'kärlek', 'måste', 'vändas', 'i', 'välsignelse', '</s>', '<s>', 'då', 'prästen', 'sade', 'detta', 'kom', 'alla', 'människor', 'att', 'se', 'bort', 'mot', 'klara', 'gulla', 'och', 'de', 'förundrade', 'sig', 'över', 'vad', 'de', 'såg', '</s>', '<s>', 'prästens', 'ord', 'tycktes', 'redan', 'ha', 'gått', 'i', 'uppfyllelse', '</s>', '<s>', 'där', 'stod', 'klara', 'fina', 'gulleborg', 'ifrån', 'skrolycka', 'hon', 'som', 'var', 'uppkallad', 'efter', 'själva', 'solen', 'vid', 'sina', 'föräldrars', 'grav', 'och', 'lyste', 'som', 'en', 'förklarad', '</s>', '<s>', 'hon', 'var', 'likaså', 'vacker', 'som', 'den', 'söndagen', 'då', 'hon', 'gick', 'till', 'kyrkan', 'i', 'den', 'röda', 'klänningen', 'om', 'inte', 'vackrare', '</s>']`\n",
    "\n"
   ]
  },
  {
   "cell_type": "markdown",
   "metadata": {},
   "source": [
    "### Counting unigrams and bigrams"
   ]
  },
  {
   "cell_type": "markdown",
   "metadata": {},
   "source": [
    "Read and try programs to compute the frequency of unigrams and bigrams of the training set: [<a\n",
    "            href=\"https://github.com/pnugues/ilppp/tree/master/programs/ch05/python\">Program folder</a>]."
   ]
  },
  {
   "cell_type": "markdown",
   "metadata": {},
   "source": [
    "#### Unigrams"
   ]
  },
  {
   "cell_type": "code",
   "execution_count": 25,
   "metadata": {},
   "outputs": [],
   "source": [
    "def unigrams(words):\n",
    "    frequency = {}\n",
    "    for i in range(len(words)):\n",
    "        if words[i] in frequency:\n",
    "            frequency[words[i]] += 1\n",
    "        else:\n",
    "            frequency[words[i]] = 1\n",
    "    return frequency"
   ]
  },
  {
   "cell_type": "markdown",
   "metadata": {},
   "source": [
    "We compute the frequencies."
   ]
  },
  {
   "cell_type": "code",
   "execution_count": 26,
   "metadata": {},
   "outputs": [
    {
     "data": {
      "text/plain": [
       "[('<s>', 59047),\n",
       " ('selma', 52),\n",
       " ('lagerlöf', 270),\n",
       " ('nils', 87),\n",
       " ('holgerssons', 6),\n",
       " ('underbara', 23),\n",
       " ('resa', 317),\n",
       " ('genom', 688),\n",
       " ('sverige', 56),\n",
       " ('</s>', 59047),\n",
       " ('första', 525),\n",
       " ('bandet', 6),\n",
       " ('bokutgåva', 11),\n",
       " ('albert', 15),\n",
       " ('bonniers', 11),\n",
       " ('förlag', 11),\n",
       " ('stockholm', 77),\n",
       " ('den', 11624),\n",
       " ('kristliga', 2),\n",
       " ('dagvisan', 2)]"
      ]
     },
     "execution_count": 26,
     "metadata": {},
     "output_type": "execute_result"
    }
   ],
   "source": [
    "frequency = unigrams(words)\n",
    "list(frequency.items())[:20]"
   ]
  },
  {
   "cell_type": "markdown",
   "metadata": {},
   "source": [
    "#### Bigrams"
   ]
  },
  {
   "cell_type": "code",
   "execution_count": 27,
   "metadata": {},
   "outputs": [],
   "source": [
    "def bigrams(words):\n",
    "    bigrams = []\n",
    "    for i in range(len(words) - 1):\n",
    "        bigrams.append((words[i], words[i + 1]))\n",
    "    frequency_bigrams = {}\n",
    "    for i in range(len(words) - 1):\n",
    "        if bigrams[i] in frequency_bigrams:\n",
    "            frequency_bigrams[bigrams[i]] += 1\n",
    "        else:\n",
    "            frequency_bigrams[bigrams[i]] = 1\n",
    "    return frequency_bigrams"
   ]
  },
  {
   "cell_type": "code",
   "execution_count": 28,
   "metadata": {},
   "outputs": [
    {
     "name": "stdout",
     "output_type": "stream",
     "text": [
      "320129\n",
      "1041578\n"
     ]
    }
   ],
   "source": [
    "frequency_bigrams = bigrams(words)\n",
    "list(frequency_bigrams.items())[:20]\n",
    "print(len(frequency_bigrams.items()))\n",
    "print(len(words)-1)"
   ]
  },
  {
   "cell_type": "markdown",
   "metadata": {},
   "source": [
    "In the report, tell what is the possible number of bigrams and their real number? Explain why such a difference. What would be the possible number of 4-grams.\n",
    "\n",
    "Propose a solution to cope with bigrams unseen in the corpus. This topic will be discussed during the lab session."
   ]
  },
  {
   "cell_type": "markdown",
   "metadata": {},
   "source": [
    "### Computing the likelihood of a sentence"
   ]
  },
  {
   "cell_type": "markdown",
   "metadata": {},
   "source": [
    "#### Unigrams"
   ]
  },
  {
   "cell_type": "markdown",
   "metadata": {},
   "source": [
    "Write a program to compute a sentence's probability using unigrams. You may find useful the dictionaries that we saw in the mutual information program: [<a href=\"https://github.com/pnugues/ilppp/tree/master/programs/ch05/python\">Program folder</a>]. Your function will return the perplexity."
   ]
  },
  {
   "cell_type": "markdown",
   "metadata": {},
   "source": [
    "Your function should print and tabulate the results as in the examples below with the sentence _Det var en gång en katt som hette Nils_. "
   ]
  },
  {
   "cell_type": "markdown",
   "metadata": {},
   "source": [
    "```\n",
    "=====================================================\n",
    "wi \t C(wi) \t #words \t P(wi)\n",
    "=====================================================\n",
    "det \t 21108 \t 1041631 \t 0.0202643738521607\n",
    "var \t 12090 \t 1041631 \t 0.01160679741674355\n",
    "en \t 13514 \t 1041631 \t 0.01297388422579589\n",
    "gång \t 1332 \t 1041631 \t 0.001278763784871994\n",
    "en \t 13514 \t 1041631 \t 0.01297388422579589\n",
    "katt \t 16 \t 1041631 \t 1.5360525944408337e-05\n",
    "som \t 16288 \t 1041631 \t 0.015637015411407686\n",
    "hette \t 97 \t 1041631 \t 9.312318853797554e-05\n",
    "nils \t 87 \t 1041631 \t 8.352285982272032e-05\n",
    "</s> \t 59047 \t 1041631 \t 0.056687060964967444\n",
    "=====================================================\n",
    "Prob. unigrams:\t 5.361459667285409e-27\n",
    "Geometric mean prob.: 0.0023600885848765307\n",
    "Entropy rate:\t 8.726943273141258\n",
    "Perplexity:\t 423.71290908655254\n",
    "```"
   ]
  },
  {
   "cell_type": "code",
   "execution_count": 29,
   "metadata": {},
   "outputs": [],
   "source": [
    "def unigram_lm(frequency, sent_words): # Write your code\n",
    "    total_words=len(words);\n",
    "    prob_uni=1;\n",
    "    print('=====================================================')\n",
    "    print('wi      C(wi)      #words      P(wi)')\n",
    "    print('=====================================================')\n",
    "    for word in sent_words:\n",
    "        print(word + ' '*6 + str(frequency[word]) + ' '*6 + str(total_words) + ' '*6 + str(frequency[word]/total_words))\n",
    "        prob_uni*=frequency[word]/total_words;\n",
    "    print('=====================================================')\n",
    "    print('Prob. unigrams:     ' + str(prob_uni))\n",
    "    print('Geometric mean prob.: ' + str(prob_uni**(1/len(sent_words))))\n",
    "    entropy_rate = -1/len(sent_words)*math.log(prob_uni,2)\n",
    "    print('Entropy rate:     ' + str(entropy_rate))\n",
    "    perplexity=2**entropy_rate\n",
    "    print('Perplexity:     ' + str(perplexity))\n",
    "    return perplexity;\n",
    "        "
   ]
  },
  {
   "cell_type": "code",
   "execution_count": 30,
   "metadata": {},
   "outputs": [
    {
     "data": {
      "text/plain": [
       "['det', 'var', 'en', 'gång', 'en', 'katt', 'som', 'hette', 'nils', '</s>']"
      ]
     },
     "execution_count": 30,
     "metadata": {},
     "output_type": "execute_result"
    }
   ],
   "source": [
    "sentence = 'det var en gång en katt som hette nils </s>'\n",
    "sent_words = sentence.split()\n",
    "sent_words"
   ]
  },
  {
   "cell_type": "code",
   "execution_count": 31,
   "metadata": {},
   "outputs": [
    {
     "name": "stdout",
     "output_type": "stream",
     "text": [
      "=====================================================\n",
      "wi      C(wi)      #words      P(wi)\n",
      "=====================================================\n",
      "det      21108      1041579      0.020265385534846612\n",
      "var      12090      1041579      0.011607376876837956\n",
      "en      13514      1041579      0.012974531936607785\n",
      "gång      1332      1041579      0.0012788276261330154\n",
      "en      13514      1041579      0.012974531936607785\n",
      "katt      16      1041579      1.5361292806402586e-05\n",
      "som      16288      1041579      0.015637796076917832\n",
      "hette      97      1041579      9.312783763881568e-05\n",
      "nils      87      1041579      8.352702963481407e-05\n",
      "</s>      59047      1041579      0.056689891021228345\n",
      "=====================================================\n",
      "Prob. unigrams:     5.364136934636431e-27\n",
      "Geometric mean prob.: 0.0023602064104148853\n",
      "Entropy rate:     8.726871249541004\n",
      "Perplexity:     423.6917566138702\n"
     ]
    }
   ],
   "source": [
    "perplexity_unigrams = unigram_lm(frequency, sent_words)"
   ]
  },
  {
   "cell_type": "code",
   "execution_count": 32,
   "metadata": {},
   "outputs": [
    {
     "data": {
      "text/plain": [
       "423"
      ]
     },
     "execution_count": 32,
     "metadata": {},
     "output_type": "execute_result"
    }
   ],
   "source": [
    "perplexity_unigrams = int(perplexity_unigrams)\n",
    "perplexity_unigrams"
   ]
  },
  {
   "cell_type": "markdown",
   "metadata": {},
   "source": [
    "#### Bigrams"
   ]
  },
  {
   "cell_type": "markdown",
   "metadata": {},
   "source": [
    "Write a program to compute the sentence probability using bigrams. Your function will tabulate and print the results as below. It will return the perplexity."
   ]
  },
  {
   "cell_type": "markdown",
   "metadata": {},
   "source": [
    "```\n",
    "=====================================================\n",
    "wi \t wi+1 \t Ci,i+1 \t C(i) \t P(wi+1|wi)\n",
    "=====================================================\n",
    "<s>\t det \t 5672 \t 59047 \t 0.09605907158704083\n",
    "det \t var \t 3839 \t 21108 \t 0.1818741709304529\n",
    "var \t en \t 712 \t 12090 \t 0.058891645988420185\n",
    "en \t gång \t 706 \t 13514 \t 0.052242119283705785\n",
    "gång \t en \t 20 \t 1332 \t 0.015015015015015015\n",
    "en \t katt \t 6 \t 13514 \t 0.0004439840165754033\n",
    "katt \t som \t 2 \t 16 \t 0.125\n",
    "som \t hette \t 45 \t 16288 \t 0.002762770137524558\n",
    "hette \t nils \t 0 \t 97 \t 0.0 \t *backoff: \t 8.352285982272032e-05\n",
    "nils \t </s> \t 2 \t 87 \t 0.022988505747126436\n",
    "=====================================================\n",
    "Prob. bigrams:\t 2.376007803503683e-19\n",
    "Geometric mean prob.: 0.013727289294133601\n",
    "Entropy rate:\t 6.186809422848149\n",
    "Perplexity:\t 72.84759420254609\n",
    "```"
   ]
  },
  {
   "cell_type": "code",
   "execution_count": 39,
   "metadata": {},
   "outputs": [],
   "source": [
    "def bigram_lm(frequency, frequency_bigrams, sent_words): # Write your code\n",
    "    #prob_bi=1;\n",
    "    prob_bi=frequency_bigrams[('<s>',sent_words[0])]/frequency['<s>'];\n",
    "    print('=====================================================')\n",
    "    print('wi      wi+1      Ci,i+1      C(i)      P(wi+1|wi)')\n",
    "    print('=====================================================')\n",
    "    print('<s>' + ' '*6 + str(sent_words[0])+ ' '*6 +str(frequency_bigrams[('<s>',sent_words[0])]) + ' '*6 + str(frequency['<s>']) +  ' '*6 + str(frequency_bigrams[('<s>',sent_words[0])]/frequency['<s>']))\n",
    "    for i in range(len(sent_words)-1):\n",
    "        if (sent_words[i],sent_words[i+1]) in frequency_bigrams:\n",
    "            print(str(sent_words[i])+ ' '*6 + str(sent_words[i+1])+ ' '*6 +str(frequency_bigrams[(sent_words[i],sent_words[i+1])]) + ' '*6 + str(frequency[sent_words[i]]) +  ' '*6 + str(frequency_bigrams[(sent_words[i],sent_words[i+1])]/frequency[sent_words[i]]))\n",
    "            prob_bi*=frequency_bigrams[(sent_words[i],sent_words[i+1])]/frequency[sent_words[i]];\n",
    "        else:\n",
    "            print(str(sent_words[i])+ ' '*6 + str(sent_words[i+1])+ ' '*6 + '0' + ' '*6 + str(frequency[sent_words[i]]) +  ' '*6 + '0' + ' '*6 + '*backoff:' + ' '*6 + str(frequency[sent_words[i+1]]/len(words)))\n",
    "            prob_bi*=frequency[sent_words[i+1]]/len(words);\n",
    "    print('=====================================================')\n",
    "    print('Prob. bigrams:     ' + str(prob_bi))\n",
    "    print('Geometric mean prob.: ' + str(prob_bi**(1/len(sent_words))))\n",
    "    entropy_rate = -1/len(sent_words)*math.log(prob_bi,2)\n",
    "    print('Entropy rate:     ' + str(entropy_rate))\n",
    "    perplexity=2**entropy_rate\n",
    "    print('Perplexity:     ' + str(perplexity))\n",
    "    return perplexity;"
   ]
  },
  {
   "cell_type": "code",
   "execution_count": 42,
   "metadata": {},
   "outputs": [
    {
     "name": "stdout",
     "output_type": "stream",
     "text": [
      "=====================================================\n",
      "wi      wi+1      Ci,i+1      C(i)      P(wi+1|wi)\n",
      "=====================================================\n",
      "<s>      det      5672      59047      0.09605907158704083\n",
      "det      var      3839      21108      0.1818741709304529\n",
      "var      en      712      12090      0.058891645988420185\n",
      "en      gång      706      13514      0.052242119283705785\n",
      "gång      en      20      1332      0.015015015015015015\n",
      "en      katt      6      13514      0.0004439840165754033\n",
      "katt      som      2      16      0.125\n",
      "som      hette      45      16288      0.002762770137524558\n",
      "hette      nils      0      97      0      *backoff:      8.352702963481407e-05\n",
      "nils      </s>      2      87      0.022988505747126436\n",
      "=====================================================\n",
      "Prob. bigrams:     2.376126423796318e-19\n",
      "Geometric mean prob.: 0.013727357824989852\n",
      "Entropy rate:     6.186802220488124\n",
      "Perplexity:     72.84723052673391\n",
      "=====================================================\n",
      "wi      wi+1      Ci,i+1      C(i)      P(wi+1|wi)\n",
      "=====================================================\n",
      "<s>      borta      3      59047      5.080698426677054e-05\n",
      "borta      bra      0      464      0      *backoff:      0.0004473976529864753\n",
      "bra      men      3      466      0.006437768240343348\n",
      "men      hemma      2      8144      0.0002455795677799607\n",
      "hemma      bäst      0      291      0      *backoff:      0.000190095998479232\n",
      "bäst      </s>      4      198      0.020202020202020204\n",
      "=====================================================\n",
      "Prob. bigrams:     1.38010606276934e-19\n",
      "Geometric mean prob.: 0.0007188728426581952\n",
      "Entropy rate:     10.441975776465027\n",
      "Perplexity:     1391.0665985131297\n",
      "=====================================================\n",
      "wi      wi+1      Ci,i+1      C(i)      P(wi+1|wi)\n",
      "=====================================================\n",
      "<s>      lika      7      59047      0.00011854962995579793\n",
      "lika      barn      0      383      0      *backoff:      0.0005942900154477001\n",
      "barn      leka      1      619      0.0016155088852988692\n",
      "leka      bäst      0      52      0      *backoff:      0.000190095998479232\n",
      "bäst      </s>      4      198      0.020202020202020204\n",
      "=====================================================\n",
      "Prob. bigrams:     4.370949245908586e-16\n",
      "Geometric mean prob.: 0.0008474520853835646\n",
      "Entropy rate:     10.204580578419836\n",
      "Perplexity:     1180.0077163623841\n",
      "=====================================================\n",
      "wi      wi+1      Ci,i+1      C(i)      P(wi+1|wi)\n",
      "=====================================================\n",
      "<s>      man      280      59047      0.004741985198231917\n",
      "man      kan      59      2322      0.025409130060292853\n",
      "kan      inte      216      2078      0.1039461020211742\n",
      "inte      lära      4      11355      0.00035226772346983706\n",
      "lära      en      2      164      0.012195121951219513\n",
      "en      gammal      208      13514      0.015391445907947315\n",
      "gammal      hund      1      491      0.002036659877800407\n",
      "hund      att      0      53      0      *backoff:      0.02690146402721253\n",
      "att      sitta      71      28020      0.002533904354032834\n",
      "sitta      </s>      2      319      0.006269592476489028\n",
      "=====================================================\n",
      "Prob. bigrams:     7.208096180282731e-22\n",
      "Geometric mean prob.: 0.007687445631416648\n",
      "Entropy rate:     7.023279982583069\n",
      "Perplexity:     130.08222079818722\n",
      "=====================================================\n",
      "wi      wi+1      Ci,i+1      C(i)      P(wi+1|wi)\n",
      "=====================================================\n",
      "<s>      man      280      59047      0.004741985198231917\n",
      "man      ska      12      2322      0.00516795865633075\n",
      "ska      inte      110      1886      0.05832449628844114\n",
      "inte      ropa      2      11355      0.00017613386173491853\n",
      "ropa      hej      0      87      0      *backoff:      2.880242401200485e-06\n",
      "hej      förrän      0      3      0      *backoff:      0.0003408286841420574\n",
      "förrän      man      3      355      0.008450704225352112\n",
      "man      kommit      2      2322      0.0008613264427217916\n",
      "kommit      över      21      879      0.023890784982935155\n",
      "över      bäcken      2      2454      0.0008149959250203749\n",
      "bäcken      </s>      4      17      0.23529411764705882\n",
      "=====================================================\n",
      "Prob. bigrams:     8.241302677467138e-30\n",
      "Geometric mean prob.: 0.0022698628870420397\n",
      "Entropy rate:     8.783179131709279\n",
      "Perplexity:     440.5552448602503\n",
      "=====================================================\n",
      "wi      wi+1      Ci,i+1      C(i)      P(wi+1|wi)\n",
      "=====================================================\n",
      "<s>      många      28      59047      0.0004741985198231917\n",
      "många      bäckar      1      715      0.0013986013986013986\n",
      "bäckar      små      0      11      0      *backoff:      0.0006221323586593048\n",
      "små      </s>      11      648      0.016975308641975308\n",
      "=====================================================\n",
      "Prob. bigrams:     7.004136837852644e-12\n",
      "Geometric mean prob.: 0.0016268168257254348\n",
      "Entropy rate:     9.263732467268515\n",
      "Perplexity:     614.6973550965567\n"
     ]
    }
   ],
   "source": [
    "sentences = ['det var en gång en katt som hette nils </s>','borta bra men hemma bäst </s>', 'lika barn leka bäst </s>','man kan inte lära en gammal hund att sitta </s>', 'man ska inte ropa hej förrän man kommit över bäcken </s>', 'många bäckar små </s>']\n",
    "for sentence in sentences:\n",
    "    sent_words = sentence.split()\n",
    "    bigram_lm(frequency, frequency_bigrams, sent_words)\n",
    "    \n",
    "#sent_words\n",
    "#perplexity_bigrams = bigram_lm(frequency, frequency_bigrams, sent_words)"
   ]
  },
  {
   "cell_type": "code",
   "execution_count": 35,
   "metadata": {},
   "outputs": [
    {
     "data": {
      "text/plain": [
       "72"
      ]
     },
     "execution_count": 35,
     "metadata": {},
     "output_type": "execute_result"
    }
   ],
   "source": [
    "perplexity_bigrams = int(perplexity_bigrams)\n",
    "perplexity_bigrams"
   ]
  },
  {
   "cell_type": "markdown",
   "metadata": {},
   "source": [
    "In addition to this sentence, _Det var en gång en katt som hette Nils_, write five other sentences that will form your test set and run your programs on them. You will insert them in your report."
   ]
  },
  {
   "cell_type": "markdown",
   "metadata": {},
   "source": [
    "### Online prediction of words"
   ]
  },
  {
   "cell_type": "markdown",
   "metadata": {},
   "source": [
    "You will now carry out an online prediction of words. You will consider two cases:\n",
    "1. Prediction of the current word a user is typing;\n",
    "2. Prediction of the next word.\n",
    "\n",
    "Ideally, you would write a loop that reads the words and apply the models while typing. As the Jupyter labs are not designed for interactive input and output, we will simplify the experimental settings with constant strings at a given time of the input.  \n",
    "\n",
    "We will assume the user is typing the phrase: _Det var en gång_. "
   ]
  },
  {
   "cell_type": "markdown",
   "metadata": {},
   "source": [
    "#### Trigrams"
   ]
  },
  {
   "cell_type": "markdown",
   "metadata": {},
   "source": [
    "To have a more accurate prediction, you will use a trigram counting function. Program it following the model of bigrams."
   ]
  },
  {
   "cell_type": "code",
   "execution_count": 36,
   "metadata": {},
   "outputs": [],
   "source": [
    "def trigrams(words): # Write your code\n",
    "    trigrams = []\n",
    "    for i in range(len(words) - 2):\n",
    "        trigrams.append((words[i], words[i + 1], words[i + 2]))\n",
    "    frequency_trigrams = {}\n",
    "    for i in range(len(words) - 2):\n",
    "        if trigrams[i] in frequency_trigrams:\n",
    "            frequency_trigrams[trigrams[i]] += 1\n",
    "        else:\n",
    "            frequency_trigrams[trigrams[i]] = 1\n",
    "    return frequency_trigrams"
   ]
  },
  {
   "cell_type": "code",
   "execution_count": 37,
   "metadata": {},
   "outputs": [
    {
     "data": {
      "text/plain": [
       "330"
      ]
     },
     "execution_count": 37,
     "metadata": {},
     "output_type": "execute_result"
    }
   ],
   "source": [
    "frequency_trigrams = trigrams(words)\n",
    "frequency_trigrams[('det', 'var', 'en')]"
   ]
  },
  {
   "cell_type": "markdown",
   "metadata": {},
   "source": [
    "#### Prediction"
   ]
  },
  {
   "cell_type": "markdown",
   "metadata": {},
   "source": [
    "The user starts typing _Det var en gång_. After the 2nd character, your program tries to help the user with suggested words."
   ]
  },
  {
   "cell_type": "code",
   "execution_count": 38,
   "metadata": {},
   "outputs": [],
   "source": [
    "starting_text = 'De'.lower()"
   ]
  },
  {
   "cell_type": "markdown",
   "metadata": {},
   "source": [
    "Write a program to rank the five first candidates at this point. Assign these predictions in a list that you will call `current_word_predictions_1`. Note that you are starting a sentence and you can then use the bigram frequencies."
   ]
  },
  {
   "cell_type": "code",
   "execution_count": 39,
   "metadata": {},
   "outputs": [],
   "source": [
    "cand_nbr = 5"
   ]
  },
  {
   "cell_type": "code",
   "execution_count": 40,
   "metadata": {},
   "outputs": [],
   "source": [
    "candidates = sorted(frequency_bigrams.items(), key=lambda x:x[1], reverse=True)\n",
    "candidates = [x for x in candidates if x[0][1][:2]==starting_text]\n",
    "candidates = [x[0][1] for x in candidates if x[0][0]=='<s>']\n",
    "current_word_predictions_1 = candidates[:5];\n",
    "#print(current_word_predictions_1[:5])"
   ]
  },
  {
   "cell_type": "code",
   "execution_count": 41,
   "metadata": {},
   "outputs": [
    {
     "data": {
      "text/plain": [
       "['det', 'de', 'den', 'detta', 'denna']"
      ]
     },
     "execution_count": 41,
     "metadata": {},
     "output_type": "execute_result"
    }
   ],
   "source": [
    "current_word_predictions_1"
   ]
  },
  {
   "cell_type": "markdown",
   "metadata": {},
   "source": [
    "Let us now suppose that the user has typed: _Det var en_. After detecting a space, your program starts predicting a next possible word."
   ]
  },
  {
   "cell_type": "code",
   "execution_count": 42,
   "metadata": {},
   "outputs": [],
   "source": [
    "current_text = \"Det var en \".lower()\n",
    "#print(current_text.split())\n"
   ]
  },
  {
   "cell_type": "markdown",
   "metadata": {},
   "source": [
    "Tokenize this text and return a list of tokens. Call it `tokens`."
   ]
  },
  {
   "cell_type": "code",
   "execution_count": 43,
   "metadata": {},
   "outputs": [
    {
     "name": "stdout",
     "output_type": "stream",
     "text": [
      "['stor', 'liten', 'gammal', 'god', 'sådan']\n"
     ]
    }
   ],
   "source": [
    "candidates = sorted(frequency_trigrams.items(), key=lambda x:x[1], reverse=True)# Write your code here\n",
    "#print(candidates[:10])\n",
    "current_words = current_text.split()\n",
    "candidates = [x for x in candidates if x[0][0]==current_words[-2]];\n",
    "candidates = [x for x in candidates if x[0][1]==current_words[-1]];\n",
    "tokens=[x[0][2] for x in candidates];\n",
    "print(tokens[:5])"
   ]
  },
  {
   "cell_type": "code",
   "execution_count": 44,
   "metadata": {},
   "outputs": [
    {
     "data": {
      "text/plain": [
       "['stor',\n",
       " 'liten',\n",
       " 'gammal',\n",
       " 'god',\n",
       " 'sådan',\n",
       " 'av',\n",
       " 'så',\n",
       " 'ung',\n",
       " 'riktig',\n",
       " 'gång',\n",
       " 'dag',\n",
       " 'man',\n",
       " 'annan',\n",
       " 'lång',\n",
       " 'smula',\n",
       " 'vacker',\n",
       " 'mycket',\n",
       " 'bra',\n",
       " 'som',\n",
       " 'fattig',\n",
       " 'lycka',\n",
       " 'besynnerlig',\n",
       " 'präktig',\n",
       " 'hög',\n",
       " 'af',\n",
       " 'karl',\n",
       " 'människa',\n",
       " 'förfärlig',\n",
       " 'skön',\n",
       " 'helt',\n",
       " 'svår',\n",
       " 'avsatt',\n",
       " 'mästare',\n",
       " 'märkvärdig',\n",
       " 'olycka',\n",
       " 'mängd',\n",
       " 'vanlig',\n",
       " 'simpel',\n",
       " 'mörk',\n",
       " 'och',\n",
       " 'märklig',\n",
       " 'rätt',\n",
       " 'svag',\n",
       " 'ganska',\n",
       " 'sträng',\n",
       " 'allvarsam',\n",
       " 'kväll',\n",
       " 'kyrka',\n",
       " 'orimligt',\n",
       " 'örn',\n",
       " 'söndag',\n",
       " 'baddare',\n",
       " 'stark',\n",
       " 'rik',\n",
       " 'duktig',\n",
       " 'vän',\n",
       " 'fiende',\n",
       " 'myndig',\n",
       " 'kista',\n",
       " 'väg',\n",
       " 'snäll',\n",
       " 'utsänd',\n",
       " 'ny',\n",
       " 'stolt',\n",
       " 'kvinna',\n",
       " 'bild',\n",
       " 'grann',\n",
       " 'sann',\n",
       " 'kristen',\n",
       " 'julafton',\n",
       " 'dråplig',\n",
       " 'hälsning',\n",
       " 'främmande',\n",
       " 'glädje',\n",
       " 'underlig',\n",
       " 'flitig',\n",
       " 'tid',\n",
       " 'ruin',\n",
       " 'på',\n",
       " 'dröm',\n",
       " 'burgen',\n",
       " 'lek',\n",
       " 'dotter',\n",
       " 'storrövare',\n",
       " 'kringbyggd',\n",
       " 'milstolpe',\n",
       " 'hederssak',\n",
       " 'skara',\n",
       " 'fullt',\n",
       " 'drummel',\n",
       " 'landstrykare',\n",
       " 'djärv',\n",
       " 'vådlig',\n",
       " 'stad',\n",
       " 'grov',\n",
       " 'fågel',\n",
       " 'låg',\n",
       " 'gås',\n",
       " 'lika',\n",
       " 'kråkhanne',\n",
       " 'flock',\n",
       " 'tomte',\n",
       " 'ungfågel',\n",
       " 'docka',\n",
       " 'prakt',\n",
       " 'älgtjur',\n",
       " 'tagg',\n",
       " 'hop',\n",
       " 'blandning',\n",
       " 'hund',\n",
       " 'väta',\n",
       " 'vindil',\n",
       " 'trettifem',\n",
       " 'vind',\n",
       " 'snökant',\n",
       " 'gruvarbetare',\n",
       " 'gruva',\n",
       " 'förfärligt',\n",
       " 'fjällsjö',\n",
       " 'vårbäck',\n",
       " 'glad',\n",
       " 'eftersökt',\n",
       " 'mäktig',\n",
       " 'syn',\n",
       " 'tam',\n",
       " 'vit',\n",
       " 'rödstjärt',\n",
       " 'student',\n",
       " 'klippholme',\n",
       " 'ringaktad',\n",
       " 'förträfflig',\n",
       " 'hemsk',\n",
       " 'blå',\n",
       " 'karlakarl',\n",
       " 'maning',\n",
       " 'värld',\n",
       " 'kungsörn',\n",
       " 'pina',\n",
       " 'lust',\n",
       " 'vildgås',\n",
       " 'farlig',\n",
       " 'hel',\n",
       " 'fart',\n",
       " 'tamgås',\n",
       " 'gammaldags',\n",
       " 'passande',\n",
       " 'stackare',\n",
       " 'söndagsförmiddag',\n",
       " 'bildad',\n",
       " 'eländig',\n",
       " 'söndagskväll',\n",
       " 'utvald',\n",
       " 'betydande',\n",
       " 'skarp',\n",
       " 'femtio',\n",
       " 'underhållande',\n",
       " 'högtidlig',\n",
       " 'levande',\n",
       " 'enkel',\n",
       " 'framstående',\n",
       " 'bok',\n",
       " 'synvilla',\n",
       " 'äldre',\n",
       " 'engelsman',\n",
       " 'plikt',\n",
       " 'helig',\n",
       " 'kvinnostämma',\n",
       " 'stormakt',\n",
       " 'obegåfvad',\n",
       " 'herreman',\n",
       " 'flicka',\n",
       " 'rask',\n",
       " 'graf',\n",
       " 'drömsyn',\n",
       " 'dåre',\n",
       " 'död',\n",
       " 'klok',\n",
       " 'lisa',\n",
       " 'gengångare',\n",
       " 'herregård',\n",
       " 'getabock',\n",
       " 'mil',\n",
       " 'ljus',\n",
       " 'triumf',\n",
       " 'omöjlig',\n",
       " 'trollkäring',\n",
       " 'mästerspelman',\n",
       " 'valljänta',\n",
       " 'ond',\n",
       " 'tolv',\n",
       " 'väldig',\n",
       " 'välbärgad',\n",
       " 'sak',\n",
       " 'murken',\n",
       " 'häxmästare',\n",
       " 'ordningens',\n",
       " 'förunderlig',\n",
       " 'orimlig',\n",
       " 'gåva',\n",
       " 'överväldigande',\n",
       " 'bjudning',\n",
       " 'märkvärdighet',\n",
       " 'lärd',\n",
       " 'glänsande',\n",
       " 'diktare',\n",
       " 'sårad',\n",
       " 'erfaren',\n",
       " 'satans',\n",
       " 'hård',\n",
       " 'prostson',\n",
       " 'viss',\n",
       " 'dödskalle',\n",
       " 'själ',\n",
       " 'fem',\n",
       " 'konungens',\n",
       " 'sjuttioåring',\n",
       " 'säker',\n",
       " 'bonddotter',\n",
       " 'praktisk',\n",
       " 'hälsokälla',\n",
       " 'omätlig',\n",
       " 'byggnad',\n",
       " 'gränsbo',\n",
       " 'ärla',\n",
       " 'dålig',\n",
       " 'sjuttio',\n",
       " 'strömkarl',\n",
       " 'tadelfri',\n",
       " 'inspirationens',\n",
       " 'skam',\n",
       " 'ståtlig',\n",
       " 'mäkta',\n",
       " 'större',\n",
       " 'led',\n",
       " 'spenslig',\n",
       " 'kokett',\n",
       " 'duglig',\n",
       " 'sorgens',\n",
       " 'vårafton',\n",
       " 'lustig',\n",
       " 'rikt',\n",
       " 'högväxt',\n",
       " 'tidig',\n",
       " 'jätte',\n",
       " 'sten',\n",
       " 'sannare',\n",
       " 'vagn',\n",
       " 'gagnlös',\n",
       " 'förberedelse',\n",
       " 'urkund',\n",
       " 'präst',\n",
       " 'själflärd',\n",
       " 'sextio',\n",
       " 'bruten',\n",
       " 'förmiddag',\n",
       " 'godmodig',\n",
       " 'säkerhet',\n",
       " 'trätrappa',\n",
       " 'smal',\n",
       " 'för',\n",
       " 'vintersöndag',\n",
       " 'den',\n",
       " 'vinter',\n",
       " 'ensam',\n",
       " 'omtyckt',\n",
       " 'mördare',\n",
       " 'seglare',\n",
       " 'krympling',\n",
       " 'sjöman',\n",
       " 'ljuflig',\n",
       " 'krans',\n",
       " 'jaspis',\n",
       " 'änka',\n",
       " 'kungörelse',\n",
       " 'myrmark',\n",
       " 'ädelmodig',\n",
       " 'saknad',\n",
       " 'bonde',\n",
       " 'stämma',\n",
       " 'tjuf',\n",
       " 'fri',\n",
       " 'usel',\n",
       " 'sinnesrubbad',\n",
       " 'allvarsammare',\n",
       " 'otroligt',\n",
       " 'särskild',\n",
       " 'storbonde',\n",
       " 'skärning',\n",
       " 'hederlig',\n",
       " 'pojke',\n",
       " 'profetens',\n",
       " 'gård',\n",
       " 'amerikanare',\n",
       " 'dragoman',\n",
       " 'förrädare',\n",
       " 'morgon',\n",
       " 'jättestark',\n",
       " 'stackars',\n",
       " 'gosse',\n",
       " 'idiot',\n",
       " 'trygg',\n",
       " 'halvmil',\n",
       " 'sommarsäter',\n",
       " 'gast',\n",
       " 'egen',\n",
       " 'fyrtio',\n",
       " 'sorglig',\n",
       " 'blygsam',\n",
       " 'musikalisk',\n",
       " 'förmögen',\n",
       " 'eller',\n",
       " 'ovanligt',\n",
       " 'årsväxt',\n",
       " 'fyraåring',\n",
       " 'särdeles',\n",
       " 'född',\n",
       " 'gudsförnekare',\n",
       " 'vida',\n",
       " 'sämre',\n",
       " 'tjuv',\n",
       " 'oändlig',\n",
       " 'storbondes',\n",
       " 'förlorad',\n",
       " 'glittrande',\n",
       " 'ordfattig',\n",
       " 'kämpe',\n",
       " 'aning',\n",
       " 'oländig',\n",
       " 'sommarnatt',\n",
       " 'missräkning',\n",
       " 'söndagseftermiddag',\n",
       " 'brusande',\n",
       " 'nyss',\n",
       " 'kamp',\n",
       " 'målare',\n",
       " 'fallen',\n",
       " 'lögnare',\n",
       " 'lättnad',\n",
       " 'sansad',\n",
       " 'feg',\n",
       " 'signor',\n",
       " 'härlig',\n",
       " 'trängsel',\n",
       " 'sjunken',\n",
       " 'förtvivlans',\n",
       " 'herrens',\n",
       " 'äreport',\n",
       " 'stigande',\n",
       " 'klippstrand',\n",
       " 'sjö',\n",
       " 'fråga',\n",
       " 'viktig',\n",
       " 'gråvädersdag',\n",
       " 'ofantligt',\n",
       " 'annans',\n",
       " 'vuxen',\n",
       " 'kall',\n",
       " 'bodbetjänt',\n",
       " 'ko',\n",
       " 'till',\n",
       " 'fingervisning',\n",
       " 'hetlevrad',\n",
       " 'solvarm',\n",
       " 'sanning',\n",
       " 'förståndig',\n",
       " 'lugn',\n",
       " 'stolle']"
      ]
     },
     "execution_count": 44,
     "metadata": {},
     "output_type": "execute_result"
    }
   ],
   "source": [
    "tokens"
   ]
  },
  {
   "cell_type": "markdown",
   "metadata": {},
   "source": [
    "Write a program to propose the five next possible words ranked by frequency using a trigram model. Assign these predictions to a variable that you will call `next_word_predictions`"
   ]
  },
  {
   "cell_type": "code",
   "execution_count": 45,
   "metadata": {},
   "outputs": [],
   "source": [
    "next_word_predictions = tokens[:5] # Write your code here"
   ]
  },
  {
   "cell_type": "code",
   "execution_count": 46,
   "metadata": {},
   "outputs": [
    {
     "data": {
      "text/plain": [
       "['stor', 'liten', 'gammal', 'god', 'sådan']"
      ]
     },
     "execution_count": 46,
     "metadata": {},
     "output_type": "execute_result"
    }
   ],
   "source": [
    "next_word_predictions"
   ]
  },
  {
   "cell_type": "markdown",
   "metadata": {},
   "source": [
    "Finally, let us suppose that the user has typed _Det var en g_, rank the five possible candidates. Assign these predictions in a list that you will call `current_word_predictions_2`"
   ]
  },
  {
   "cell_type": "code",
   "execution_count": 47,
   "metadata": {},
   "outputs": [],
   "source": [
    "current_text = \"Det var en g\".lower()"
   ]
  },
  {
   "cell_type": "code",
   "execution_count": 48,
   "metadata": {},
   "outputs": [],
   "source": [
    "candidates = sorted(frequency_trigrams.items(), key=lambda x:x[1], reverse=True)# Write your code here\n",
    "#print(candidates[:10])\n",
    "current_words = current_text.split()\n",
    "candidates = [x for x in candidates if x[0][0]==current_words[-3]];\n",
    "candidates = [x for x in candidates if x[0][1]==current_words[-2]];\n",
    "candidates = [x for x in candidates if x[0][2][0]==current_words[-1]];\n",
    "tokens=[x[0][2] for x in candidates];\n",
    "#print(tokens[:5])\n",
    "current_word_predictions_2 = tokens[:5]"
   ]
  },
  {
   "cell_type": "code",
   "execution_count": 49,
   "metadata": {},
   "outputs": [
    {
     "data": {
      "text/plain": [
       "['gammal', 'god', 'gång', 'ganska', 'grann']"
      ]
     },
     "execution_count": 49,
     "metadata": {},
     "output_type": "execute_result"
    }
   ],
   "source": [
    "current_word_predictions_2"
   ]
  },
  {
   "cell_type": "markdown",
   "metadata": {},
   "source": [
    "## Checked answers"
   ]
  },
  {
   "cell_type": "markdown",
   "metadata": {},
   "source": [
    "The system will check these answers: `(perplexity_unigrams, perplexity_bigrams, current_word_predictions_1, next_word_predictions, current_word_predictions_2)`"
   ]
  },
  {
   "cell_type": "code",
   "execution_count": 50,
   "metadata": {},
   "outputs": [
    {
     "data": {
      "text/plain": [
       "(423,\n",
       " 72,\n",
       " ['det', 'de', 'den', 'detta', 'denna'],\n",
       " ['stor', 'liten', 'gammal', 'god', 'sådan'],\n",
       " ['gammal', 'god', 'gång', 'ganska', 'grann'])"
      ]
     },
     "execution_count": 50,
     "metadata": {},
     "output_type": "execute_result"
    }
   ],
   "source": [
    "(perplexity_unigrams, perplexity_bigrams, current_word_predictions_1, next_word_predictions, current_word_predictions_2)"
   ]
  },
  {
   "cell_type": "markdown",
   "metadata": {},
   "source": [
    "## Submission"
   ]
  },
  {
   "cell_type": "markdown",
   "metadata": {},
   "source": [
    "When you have written all the code and run all the cells, fill in your ID and as well as the name of the notebook."
   ]
  },
  {
   "cell_type": "code",
   "execution_count": 51,
   "metadata": {},
   "outputs": [],
   "source": [
    "STIL_ID = [\"ni5812jo-s\"] # Write your stil ids as a list\n",
    "#CURRENT_NOTEBOOK_PATH = os.path.join(os.getcwd(), \n",
    "#                                     \"2-language_models_solution.ipynb\") # Write the name of your notebook\n",
    "CURRENT_NOTEBOOK_PATH='2-language_models.ipynb';"
   ]
  },
  {
   "cell_type": "markdown",
   "metadata": {},
   "source": [
    "The submission code will send your answer. It consists of the perplexities and predictions."
   ]
  },
  {
   "cell_type": "code",
   "execution_count": 52,
   "metadata": {},
   "outputs": [
    {
     "data": {
      "text/plain": [
       "\"(423, 72, ['det', 'de', 'den', 'detta', 'denna'], ['stor', 'liten', 'gammal', 'god', 'sådan'], ['gammal', 'god', 'gång', 'ganska', 'grann'])\""
      ]
     },
     "execution_count": 52,
     "metadata": {},
     "output_type": "execute_result"
    }
   ],
   "source": [
    "ANSWER = str((perplexity_unigrams, perplexity_bigrams, current_word_predictions_1, next_word_predictions, current_word_predictions_2))\n",
    "ANSWER"
   ]
  },
  {
   "cell_type": "markdown",
   "metadata": {},
   "source": [
    "Now the moment of truth:\n",
    "1. Save your notebook and\n",
    "2. Run the cells below"
   ]
  },
  {
   "cell_type": "code",
   "execution_count": 53,
   "metadata": {},
   "outputs": [],
   "source": [
    "#SUBMISSION_NOTEBOOK_PATH = CURRENT_NOTEBOOK_PATH + \".submission.bz2\"\n",
    "SUBMISSION_NOTEBOOK_PATH = \"2-language_models.ipynb.submission.bz2\""
   ]
  },
  {
   "cell_type": "code",
   "execution_count": 54,
   "metadata": {},
   "outputs": [],
   "source": [
    "ASSIGNMENT = 2\n",
    "API_KEY = \"f581ba347babfea0b8f2c74a3a6776a7\"\n",
    "\n",
    "# Copy and compress current notebook\n",
    "with bz2.open(SUBMISSION_NOTEBOOK_PATH, mode=\"wb\") as fout:\n",
    "    with open(CURRENT_NOTEBOOK_PATH, \"rb\") as fin:\n",
    "        fout.write(fin.read())"
   ]
  },
  {
   "cell_type": "code",
   "execution_count": 55,
   "metadata": {},
   "outputs": [
    {
     "data": {
      "text/plain": [
       "{'msg': None,\n",
       " 'status': 'correct',\n",
       " 'signature': '5b585bd251946655527ac9940aa89a08391bb579a879d965c0dae6af0aec30649c3f73351184f8ceb3331a1c359d5004e561921cff087022f73edda94bbdbc42',\n",
       " 'submission_id': 'fb8cae54-0a4f-4fb9-9ccd-685a252da279'}"
      ]
     },
     "execution_count": 55,
     "metadata": {},
     "output_type": "execute_result"
    }
   ],
   "source": [
    "res = requests.post(\"https://vilde.cs.lth.se/edan20checker/submit\", \n",
    "                    files={\"notebook_file\": open(SUBMISSION_NOTEBOOK_PATH, \"rb\")}, \n",
    "                    data={\n",
    "                        \"stil_id\": STIL_ID,\n",
    "                        \"assignment\": ASSIGNMENT,\n",
    "                        \"answer\": ANSWER,\n",
    "                        \"api_key\": API_KEY,\n",
    "                    },\n",
    "                   verify=True)\n",
    "\n",
    "# from IPython.display import display, JSON\n",
    "res.json()"
   ]
  },
  {
   "cell_type": "markdown",
   "metadata": {},
   "source": [
    "## Reading"
   ]
  },
  {
   "cell_type": "markdown",
   "metadata": {},
   "source": [
    "<p>As an application of n-grams, execute the Jupyter notebook by Peter Norvig <a\n",
    "        href=\"http://nbviewer.jupyter.org/url/norvig.com/ipython/How%20to%20Do%20Things%20with%20Words.ipynb\">\n",
    "    here</a>. Just run all the cells and be sure that you understand the code.\n",
    "    You will find the data <a href=\"http://norvig.com/ngrams/\">here</a>.</p>\n",
    "<p>In your report, you will also describe one experiment with a long string of words\n",
    "    your will create yourself or copy from a text you like. You will remove all the punctuation and\n",
    "    white spaces from this string. Set this string in lowercase letters.</p>\n",
    "<p>You will just add a cell at the end of Sect. 7 in Norvig's notebook, where you will use your string and\n",
    "    run the notebook cell with the <tt>segment()</tt> and <tt>segment2()</tt> functions. </p>\n",
    "<p>You will comment the segmentation results you obtain with unigram and bigram models.\n",
    "</p>"
   ]
  },
  {
   "cell_type": "code",
   "execution_count": null,
   "metadata": {},
   "outputs": [],
   "source": []
  }
 ],
 "metadata": {
  "kernelspec": {
   "display_name": "Python 3",
   "language": "python",
   "name": "python3"
  },
  "language_info": {
   "codemirror_mode": {
    "name": "ipython",
    "version": 3
   },
   "file_extension": ".py",
   "mimetype": "text/x-python",
   "name": "python",
   "nbconvert_exporter": "python",
   "pygments_lexer": "ipython3",
   "version": "3.7.3"
  }
 },
 "nbformat": 4,
 "nbformat_minor": 4
}
